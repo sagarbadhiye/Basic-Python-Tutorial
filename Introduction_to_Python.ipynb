{
  "cells": [
    {
      "cell_type": "markdown",
      "metadata": {
        "id": "Eqsu-lyphu3s"
      },
      "source": [
        "## ***Notes by Dr. M. M. Raghuwanshi, Dr. S. S. Badhiye, Symbiosis Institute of Technology, Nagpur***"
      ]
    },
    {
      "cell_type": "markdown",
      "metadata": {
        "id": "u1YDPNtbdHDj"
      },
      "source": [
        "\n",
        "# Introduction to Python\n",
        "\n",
        "<a id='First'></a>"
      ]
    },
    {
      "cell_type": "markdown",
      "metadata": {
        "id": "VB--CYOSdHDm"
      },
      "source": [
        "<a id='Basics'></a>\n",
        "# Topics Discussed\n",
        "\n",
        " * What is Python?\n",
        " * Basics of Python Programming\n",
        " * Control structures in Python\n",
        " * Functions in Python\n",
        " * Modules in Python\n",
        "<br>"
      ]
    },
    {
      "cell_type": "markdown",
      "metadata": {
        "id": "ipgvJSsRdHDn"
      },
      "source": [
        "<a id='intro'></a>\n",
        "## What is Python?\n",
        "\n",
        " * Python  is  a  general  purpose programming language that is often applied in scripting roles\n",
        " * So, Python\tis programming language as well as scripting language.\n",
        " * Python is also called as Interpreted language\n",
        " * Developed in 1991 by Guido van Rossum.\n",
        " * Intuitive and minimal coding is required\n",
        " * Dynamically typed, type declarations is not required, data type is tracked at runtime\n",
        " * Automatic memory management\n",
        " * Spacing(Indentation) defines blocks of code such as control structures and blocks\n",
        "  <br>"
      ]
    },
    {
      "cell_type": "markdown",
      "metadata": {
        "id": "H-fKj1GCvJQW"
      },
      "source": [
        "# Why  to Learn Python?\n",
        "\n",
        "## Advantages\n",
        "### Open Source\n",
        " * Freely available, can know everything by analyzing its code\n",
        "### Popular\n",
        " * Great humanity support when you run in problems\n",
        "### Accessible\n",
        " * From Budding Programmer to a Professional One\n",
        "### Everywhere\n",
        " * Used almost everywhere throughout the world\n",
        "### Fun\n",
        " * It is expressive, readable style, quick editing, run and development environment.\n",
        " * Ease of programming\n",
        " * Minimal time to develop and maintain codes\n",
        " * Modular and object-oriented\n",
        " * Great standard and user-contributed libraries\n",
        " * Large user groups\n",
        " \n",
        "## Disadvantages\n",
        " * Interpreted and hence slower than compiled languages\n",
        " * Not great for 3D graphic applications requiring intensive computations\n",
        "  <br>"
      ]
    },
    {
      "cell_type": "markdown",
      "metadata": {
        "id": "lWz4EJiZdHDo"
      },
      "source": [
        "## Jupyter Notebook \n",
        "\n",
        "* Web interface to Python, introduced in 2015 \n",
        "* Rich text, improved graphical capabilities\n",
        "* Integrate many existing web libraries for data visualization\n",
        "* Allow to create and share documents that contain live code, equations, visualizations and explanatory text. \n",
        "* Interface with over 40 languages, such as R, Julia and Scala\n",
        "* This colab.research.google.com notebook is a Jupyter notebook\n",
        "[back to top](#top)\n",
        "\n",
        "\n"
      ]
    },
    {
      "cell_type": "markdown",
      "metadata": {
        "id": "krWd44XodHDp"
      },
      "source": [
        "## Variables \n",
        "\n",
        "* Variable type in Python is dynamically determined from the value it is assigned, no data type is declared\n",
        "* Assign meaningful variable names\n",
        "* Some keywords are reserved such as ‘print’, ‘assert’,  ‘while’, ‘lambda’, 'for', 'if', etc\n",
        "\n",
        "\n",
        "## List of Keywords in Python\n",
        "\n",
        "* The following identifiers are used as reserved words, or keywords of the language, and cannot be used as ordinary identifiers. They must be spelled exactly as written here:\n",
        "        False      await      else       import     pass\n",
        "        None       break      except     in         raise\n",
        "        True       class      finally    is         return\n",
        "        and        continue   for        lambda     try\n",
        "        as         def        from       nonlocal   while\n",
        "        assert     del        global     not        with\n",
        "        async      elif       if         or         yield\n",
        "        \n",
        "* A variable is assigned a value using the ‘=’ operator, example: a = 5 "
      ]
    },
    {
      "cell_type": "code",
      "execution_count": null,
      "metadata": {
        "colab": {
          "base_uri": "https://localhost:8080/"
        },
        "id": "4_NQ5sT8j5SD",
        "outputId": "27052e1f-8ca0-4fa2-c142-021d0fae97d3"
      },
      "outputs": [
        {
          "data": {
            "text/plain": [
              "str"
            ]
          },
          "execution_count": 1,
          "metadata": {},
          "output_type": "execute_result"
        }
      ],
      "source": [
        "a = '5+35' #Variable declaration and initialization\n",
        "type(a)"
      ]
    },
    {
      "cell_type": "code",
      "execution_count": null,
      "metadata": {
        "colab": {
          "base_uri": "https://localhost:8080/"
        },
        "id": "gF3K-G9Lj5SF",
        "outputId": "5b665e2d-b2b7-41d2-b065-4e79770d6602"
      },
      "outputs": [
        {
          "data": {
            "text/plain": [
              "140406723297712"
            ]
          },
          "execution_count": 2,
          "metadata": {},
          "output_type": "execute_result"
        }
      ],
      "source": [
        "id(a) #Each object is assigned an unique identity. id() is used to fetch this integer value"
      ]
    },
    {
      "cell_type": "code",
      "execution_count": null,
      "metadata": {
        "colab": {
          "base_uri": "https://localhost:8080/"
        },
        "id": "vCJsLrZIj5SG",
        "outputId": "cbe1f050-8ff0-40cb-a4de-8fc7873516e9"
      },
      "outputs": [
        {
          "name": "stdout",
          "output_type": "stream",
          "text": [
            "<class 'float'>\n",
            "140406723302512\n"
          ]
        }
      ],
      "source": [
        "A = 99.9\n",
        "print(type(A))\n",
        "print(id(A))"
      ]
    },
    {
      "cell_type": "code",
      "execution_count": null,
      "metadata": {
        "colab": {
          "base_uri": "https://localhost:8080/"
        },
        "id": "2tiYnR1rj5SH",
        "outputId": "bd616c5b-61c8-4885-8321-7e249d55f921"
      },
      "outputs": [
        {
          "name": "stdout",
          "output_type": "stream",
          "text": [
            "<class 'str'>\n"
          ]
        },
        {
          "data": {
            "text/plain": [
              "13"
            ]
          },
          "execution_count": 4,
          "metadata": {},
          "output_type": "execute_result"
        }
      ],
      "source": [
        "Name = 'Sagar Badhiye'\n",
        "print(type(Name))\n",
        "len(Name)"
      ]
    },
    {
      "cell_type": "code",
      "execution_count": null,
      "metadata": {
        "colab": {
          "base_uri": "https://localhost:8080/",
          "height": 70
        },
        "id": "54yt4R7Kj5SH",
        "outputId": "4537e1b1-de25-4eb2-8918-04eaf3939a6b"
      },
      "outputs": [
        {
          "name": "stdout",
          "output_type": "stream",
          "text": [
            "SAGAR BADHIYE\n",
            "sagar badhiye\n"
          ]
        },
        {
          "data": {
            "application/vnd.google.colaboratory.intrinsic+json": {
              "type": "string"
            },
            "text/plain": [
              "'SAGAR BADHIYE'"
            ]
          },
          "execution_count": 5,
          "metadata": {},
          "output_type": "execute_result"
        }
      ],
      "source": [
        "Name = Name.upper() #upper() is used to convert string to upper case\n",
        "print(Name)\n",
        "print(Name.lower()) #lower() is used to convert string to lower case\n",
        "Name"
      ]
    },
    {
      "cell_type": "code",
      "execution_count": null,
      "metadata": {
        "colab": {
          "base_uri": "https://localhost:8080/"
        },
        "id": "5lR2EX2Vj5SI",
        "outputId": "a15625aa-232c-4686-f175-bcc4c74e10b9"
      },
      "outputs": [
        {
          "name": "stdout",
          "output_type": "stream",
          "text": [
            "5+35 99.9 SAGAR BADHIYE\n"
          ]
        }
      ],
      "source": [
        "print(a, A, Name)"
      ]
    },
    {
      "cell_type": "code",
      "execution_count": null,
      "metadata": {
        "colab": {
          "base_uri": "https://localhost:8080/"
        },
        "id": "UIOFJmC4j5SI",
        "outputId": "adc9d0a0-e866-4bb6-e5bb-ff87770ced1c"
      },
      "outputs": [
        {
          "name": "stdout",
          "output_type": "stream",
          "text": [
            "10 Python 3.14\n"
          ]
        }
      ],
      "source": [
        "a, A, Name = 10, 3.14, 'Python'\n",
        "print(a, Name, A)"
      ]
    },
    {
      "cell_type": "code",
      "execution_count": null,
      "metadata": {
        "colab": {
          "base_uri": "https://localhost:8080/"
        },
        "id": "_hUNAr0qj5SJ",
        "outputId": "c4af451b-ff8a-479c-aba2-1a89d4f9ac3b"
      },
      "outputs": [
        {
          "name": "stdout",
          "output_type": "stream",
          "text": [
            "11 11 11\n"
          ]
        }
      ],
      "source": [
        "x = y = z = 11\n",
        "print(x, y, z)"
      ]
    },
    {
      "cell_type": "code",
      "execution_count": null,
      "metadata": {
        "colab": {
          "base_uri": "https://localhost:8080/"
        },
        "id": "FZEYf8xEj5SJ",
        "outputId": "f8868b9f-8279-479c-a084-edf22418f39c"
      },
      "outputs": [
        {
          "name": "stdout",
          "output_type": "stream",
          "text": [
            "True\n",
            "True\n",
            "False\n"
          ]
        }
      ],
      "source": [
        "print(isinstance(a, int))\n",
        "print(isinstance(A, float))\n",
        "print(isinstance(Name, int))"
      ]
    },
    {
      "cell_type": "code",
      "execution_count": null,
      "metadata": {
        "colab": {
          "base_uri": "https://localhost:8080/"
        },
        "id": "dGVi4z3Rj5SK",
        "outputId": "135c9906-ff5d-4755-d5ec-803bb2c25968"
      },
      "outputs": [
        {
          "name": "stdout",
          "output_type": "stream",
          "text": [
            "<class 'str'>\n",
            "<class 'int'>\n",
            "<class 'float'>\n"
          ]
        }
      ],
      "source": [
        "x = str(3) #type casting in python, str() constructor is used to convert 3 to string\n",
        "print(type(x))\n",
        "y = 3\n",
        "print(type(y))\n",
        "y = float(3) #type casting in python, float() constructor is used to convert 3 to float\n",
        "print(type(y))"
      ]
    },
    {
      "cell_type": "markdown",
      "metadata": {
        "id": "DqzfTKX_dHDq"
      },
      "source": [
        "<a id='data-type'></a>\n",
        "## Built-in Data Types in Python\n",
        "<table>\n",
        "<tr> <th>Text Types </th> <td> str </td></tr>\n",
        "<tr> <th>Numeric Types </th> <td> int, float, complex </td></tr>\n",
        "<tr> <th>Sequence Types </th> <td> list, tuples, range </td></tr>\n",
        "<tr> <th>Mapping Types </th> <td> dict </td></tr>\n",
        "<tr> <th>Set Types </th> <td> set, frozenset </td></tr>\n",
        "<tr> <th>Boolean Types </th> <td> bool </td></tr>\n",
        "<tr> <th>Binary Types </th> <td> bytes, bytearray, memoryview </td></tr>\n",
        "</table> "
      ]
    },
    {
      "cell_type": "markdown",
      "metadata": {
        "id": "KWM_ojx6dHDq"
      },
      "source": [
        "<a id='numbers'></a>\n",
        "## Types of Literals\n",
        "### Numerical Literals"
      ]
    },
    {
      "cell_type": "code",
      "execution_count": null,
      "metadata": {
        "colab": {
          "base_uri": "https://localhost:8080/"
        },
        "id": "_yOMyLthdHDr",
        "outputId": "13ad3469-bee6-4101-9983-50a48e7c0ef7"
      },
      "outputs": [
        {
          "name": "stdout",
          "output_type": "stream",
          "text": [
            "4 99 120 266\n",
            "112\n"
          ]
        }
      ],
      "source": [
        "#Integer Literals\n",
        "a = 0b100 #Binary Literal\n",
        "b = 99 #Decimal Literal\n",
        "c = 0o170 #Octal Literal\n",
        "d = 0x10a #Hexadecimal Literal\n",
        "print(a, b, c, d)\n",
        "print(int(\"422\", 5)) #Converting 422 in base 5 number system to integer in decimal"
      ]
    },
    {
      "cell_type": "code",
      "execution_count": null,
      "metadata": {
        "colab": {
          "base_uri": "https://localhost:8080/"
        },
        "id": "R_hrkRhMdHDv",
        "outputId": "363053ce-0406-43a7-f547-d510b4f4cd5c"
      },
      "outputs": [
        {
          "name": "stdout",
          "output_type": "stream",
          "text": [
            "9.8 2.3e+25\n"
          ]
        }
      ],
      "source": [
        "#Float Literals with 53 bits binary precision and 15 or 16 bits decimal precision\n",
        "f = 9.8\n",
        "g = 2.3e25\n",
        "print(f, g)"
      ]
    },
    {
      "cell_type": "code",
      "execution_count": null,
      "metadata": {
        "colab": {
          "base_uri": "https://localhost:8080/"
        },
        "id": "fvDUy7nIdHD3",
        "outputId": "28886103-ad5c-4bd6-b6ee-ebe9cdc0f604",
        "scrolled": true
      },
      "outputs": [
        {
          "name": "stdout",
          "output_type": "stream",
          "text": [
            "(2+3.14j)\n"
          ]
        },
        {
          "data": {
            "text/plain": [
              "(3+2j)"
            ]
          },
          "execution_count": 13,
          "metadata": {},
          "output_type": "execute_result"
        }
      ],
      "source": [
        "#Complex Literals\n",
        "h = 2 + 3.14j\n",
        "print(h)\n",
        "complex(3, 2)"
      ]
    },
    {
      "cell_type": "markdown",
      "metadata": {
        "id": "Ki9CHBADj5SM"
      },
      "source": [
        "### String Literals"
      ]
    },
    {
      "cell_type": "code",
      "execution_count": null,
      "metadata": {
        "colab": {
          "base_uri": "https://localhost:8080/"
        },
        "id": "gbdT2LuGdHDx",
        "outputId": "60da53f8-cd60-4f89-e6c1-98dfb6d773ca"
      },
      "outputs": [
        {
          "name": "stdout",
          "output_type": "stream",
          "text": [
            "Sagar Badhiye S 57, Mahesh Nagar, \n",
            "Behind Anant Nagar, Nagpur - 440013 This is \\n raw string Ü nic༆ de\n"
          ]
        }
      ],
      "source": [
        "Name = \"Sagar Badhiye\"\n",
        "char = \"S\"\n",
        "Address_Mul = \"\"\"57, Mahesh Nagar, \n",
        "Behind Anant Nagar, Nagpur - 440013\"\"\"\n",
        "Str_raw = r\"This is \\n raw string\" #raw string treats backslash (\\) as a literal character\n",
        "Str_uni = u\"\\u00dc nic\\u0f06 de\"\n",
        "print(Name, char, Address_Mul, Str_raw, Str_uni)"
      ]
    },
    {
      "cell_type": "code",
      "execution_count": null,
      "metadata": {
        "colab": {
          "base_uri": "https://localhost:8080/"
        },
        "id": "HznA6dxej5SN",
        "outputId": "f21a10b5-88d0-4af8-a9cd-bcb107cd5747"
      },
      "outputs": [
        {
          "name": "stdout",
          "output_type": "stream",
          "text": [
            "65\n",
            "220\n"
          ]
        }
      ],
      "source": [
        "print(ord(\"A\"))\n",
        "print(ord(\"Ü\"))"
      ]
    },
    {
      "cell_type": "code",
      "execution_count": null,
      "metadata": {
        "colab": {
          "base_uri": "https://localhost:8080/"
        },
        "id": "Kv5-y_Iaj5SN",
        "outputId": "a0fe1062-f48c-4f13-8bcd-5a30bec51b9b"
      },
      "outputs": [
        {
          "name": "stdout",
          "output_type": "stream",
          "text": [
            "220\n"
          ]
        }
      ],
      "source": [
        "print(int(0x00dc))"
      ]
    },
    {
      "cell_type": "code",
      "execution_count": null,
      "metadata": {
        "colab": {
          "base_uri": "https://localhost:8080/",
          "height": 35
        },
        "id": "uXzR7tClj5SN",
        "outputId": "78fabf35-4ab0-4dfd-e109-c0331287bb19"
      },
      "outputs": [
        {
          "data": {
            "application/vnd.google.colaboratory.intrinsic+json": {
              "type": "string"
            },
            "text/plain": [
              "'d'"
            ]
          },
          "execution_count": 17,
          "metadata": {},
          "output_type": "execute_result"
        }
      ],
      "source": [
        "chr(100)"
      ]
    },
    {
      "cell_type": "markdown",
      "metadata": {
        "id": "EnO7Vu1QdHD0",
        "scrolled": true
      },
      "source": [
        "### Boolean Literals"
      ]
    },
    {
      "cell_type": "code",
      "execution_count": null,
      "metadata": {
        "colab": {
          "base_uri": "https://localhost:8080/"
        },
        "id": "kq7Gg321j5SO",
        "outputId": "54351384-1a7a-4849-c22b-b4af05435b36"
      },
      "outputs": [
        {
          "output_type": "stream",
          "name": "stdout",
          "text": [
            "True False 5 10\n"
          ]
        }
      ],
      "source": [
        "x = (1 == True)\n",
        "y = (1 == False)\n",
        "a = True + 4\n",
        "b = False + 10\n",
        "print(x, y, a, b)"
      ]
    },
    {
      "cell_type": "code",
      "execution_count": null,
      "metadata": {
        "colab": {
          "base_uri": "https://localhost:8080/"
        },
        "id": "EzSyMKwidHD8",
        "outputId": "5cd927c0-932d-452c-c96f-3abdeef1f2cc"
      },
      "outputs": [
        {
          "output_type": "execute_result",
          "data": {
            "text/plain": [
              "-2"
            ]
          },
          "metadata": {},
          "execution_count": 2
        }
      ],
      "source": [
        "abs(3-5)\n",
        "3-5"
      ]
    },
    {
      "cell_type": "markdown",
      "metadata": {
        "id": "_XDWU4R-dHED"
      },
      "source": [
        "<a id='string'></a>\n",
        "## Strings"
      ]
    },
    {
      "cell_type": "code",
      "execution_count": null,
      "metadata": {
        "id": "lRqQ2KwHdHEE"
      },
      "outputs": [],
      "source": [
        "my_str = \"sitnagpur\""
      ]
    },
    {
      "cell_type": "code",
      "execution_count": null,
      "metadata": {
        "colab": {
          "base_uri": "https://localhost:8080/"
        },
        "id": "4R7QI39sdHEG",
        "outputId": "82bd2e8c-7777-419d-c57f-a885d54e929e",
        "scrolled": false
      },
      "outputs": [
        {
          "name": "stdout",
          "output_type": "stream",
          "text": [
            "sitnagpur\n"
          ]
        },
        {
          "data": {
            "text/plain": [
              "9"
            ]
          },
          "execution_count": 21,
          "metadata": {},
          "output_type": "execute_result"
        }
      ],
      "source": [
        "print(my_str); len(my_str)"
      ]
    },
    {
      "cell_type": "code",
      "execution_count": null,
      "metadata": {
        "colab": {
          "base_uri": "https://localhost:8080/"
        },
        "id": "4zQd6w2odHEN",
        "outputId": "faeb9a35-cb47-47c5-abda-3eaa69ed0c54",
        "scrolled": true
      },
      "outputs": [
        {
          "name": "stdout",
          "output_type": "stream",
          "text": [
            "t\n",
            "i\n",
            "p\n",
            "r\n"
          ]
        }
      ],
      "source": [
        "#indexing starting at 0\n",
        "print(my_str[2]); print(my_str[1]); print(my_str[6]); print(my_str[-1])"
      ]
    },
    {
      "cell_type": "code",
      "execution_count": null,
      "metadata": {
        "colab": {
          "base_uri": "https://localhost:8080/"
        },
        "id": "sM7y1xrzdHEQ",
        "outputId": "8e3efae4-b54e-4d84-ccc7-d0344816ac8c",
        "scrolled": true
      },
      "outputs": [
        {
          "name": "stdout",
          "output_type": "stream",
          "text": [
            "rpats\n",
            "itn\n",
            "sitnagpur\n",
            "itnagpur\n",
            "sitn\n",
            "gpu\n"
          ]
        }
      ],
      "source": [
        "#string slicing \n",
        "print(my_str[::-2])\n",
        "print(my_str[1:4])\n",
        "print(my_str[:])\n",
        "print(my_str[1:])\n",
        "print(my_str[:4])\n",
        "print(my_str[-4:-1])"
      ]
    },
    {
      "cell_type": "code",
      "execution_count": null,
      "metadata": {
        "colab": {
          "base_uri": "https://localhost:8080/"
        },
        "id": "JpHHJSMS9ZyX",
        "outputId": "6290c521-a1d5-4240-e3e5-2019b8d5d212"
      },
      "outputs": [
        {
          "name": "stdout",
          "output_type": "stream",
          "text": [
            "123\n"
          ]
        }
      ],
      "source": [
        "m = '0123456789'\n",
        "print(m[1:4:1])#start point:stop point:No of displacement steps "
      ]
    },
    {
      "cell_type": "code",
      "execution_count": null,
      "metadata": {
        "colab": {
          "base_uri": "https://localhost:8080/"
        },
        "id": "jZ3WiHyQdHET",
        "outputId": "ea8c0cf1-0a3c-44fc-f197-b42a5b668700",
        "scrolled": true
      },
      "outputs": [
        {
          "name": "stdout",
          "output_type": "stream",
          "text": [
            "['Sagar', 'Badhiye']\n",
            "Sagar\n",
            "Badhiye\n"
          ]
        }
      ],
      "source": [
        "#string split\n",
        "my_str = \"Sagar Badhiye\"\n",
        "s1 = my_str.split();\n",
        "s2,s3=my_str.split(sep=' ');\n",
        "print(s1); print(s2);\n",
        "print(s3)"
      ]
    },
    {
      "cell_type": "code",
      "execution_count": null,
      "metadata": {
        "colab": {
          "base_uri": "https://localhost:8080/"
        },
        "id": "iF3FXFcYY9p4",
        "outputId": "f2636d20-eedd-4575-80e7-a4493b527bc1"
      },
      "outputs": [
        {
          "name": "stdout",
          "output_type": "stream",
          "text": [
            "['Symbiosis', 'International'] <class 'list'>\n"
          ]
        }
      ],
      "source": [
        "my_str = \"Symbiosis International\"\n",
        "s1 = my_str.split();\n",
        "print(s1, type(s1))"
      ]
    },
    {
      "cell_type": "code",
      "execution_count": null,
      "metadata": {
        "colab": {
          "base_uri": "https://localhost:8080/"
        },
        "id": "TW0WIQredHEX",
        "outputId": "5e29a1ee-af83-460e-ce6e-dd91f90f21d1"
      },
      "outputs": [
        {
          "name": "stdout",
          "output_type": "stream",
          "text": [
            "This is a multi-line\n",
            "block of sample\n",
            " text\n"
          ]
        }
      ],
      "source": [
        "#multiple line spanning\n",
        "multilines= \"\"\"This is a multi-line\n",
        "block of sample\n",
        " text\"\"\"\n",
        "print(multilines)\n"
      ]
    },
    {
      "cell_type": "code",
      "execution_count": null,
      "metadata": {
        "colab": {
          "base_uri": "https://localhost:8080/"
        },
        "id": "-2c8QnMTdHEb",
        "outputId": "2007d0c7-d1e4-4bac-8234-6d3316e58dbf"
      },
      "outputs": [
        {
          "name": "stdout",
          "output_type": "stream",
          "text": [
            "Enter a name: Sagar\n",
            "Hello SAGAR\n",
            "<class 'str'>\n"
          ]
        }
      ],
      "source": [
        "#string formatting\n",
        "Name = input(\"Enter a name: \")\n",
        "print(\"Hello\",Name.upper());\n",
        "print(type(Name))"
      ]
    },
    {
      "cell_type": "code",
      "execution_count": null,
      "metadata": {
        "colab": {
          "base_uri": "https://localhost:8080/"
        },
        "id": "3R1emZKmXC9t",
        "outputId": "eed7dc8f-4f6a-4998-bbbd-0e1937d21e33"
      },
      "outputs": [
        {
          "name": "stdout",
          "output_type": "stream",
          "text": [
            "Enter 1st Number: 45\n",
            "Enter 2nd Number: 65\n",
            "Enter two Numbers: 45 65\n"
          ]
        },
        {
          "data": {
            "text/plain": [
              "110"
            ]
          },
          "execution_count": 28,
          "metadata": {},
          "output_type": "execute_result"
        }
      ],
      "source": [
        "a=int(input(\"Enter 1st Number: \"))\n",
        "b = int(input(\"Enter 2nd Number: \"))\n",
        "a+b\n",
        "x, y = input(\"Enter two Numbers: \").split()\n",
        "int(x)+int(y)"
      ]
    },
    {
      "cell_type": "code",
      "execution_count": null,
      "metadata": {
        "colab": {
          "base_uri": "https://localhost:8080/"
        },
        "id": "VfHJbLdbeJoD",
        "outputId": "9b01e602-7ef3-4801-b2d3-e9ec678d28c6"
      },
      "outputs": [
        {
          "name": "stdout",
          "output_type": "stream",
          "text": [
            "num145.65\n",
            "num265.89\n"
          ]
        },
        {
          "data": {
            "text/plain": [
              "3007.8785"
            ]
          },
          "execution_count": 29,
          "metadata": {},
          "output_type": "execute_result"
        }
      ],
      "source": [
        "a=float(input(\"num1\"))\n",
        "b=float(input(\"num2\"))\n",
        "a*b"
      ]
    },
    {
      "cell_type": "code",
      "execution_count": null,
      "metadata": {
        "colab": {
          "base_uri": "https://localhost:8080/"
        },
        "id": "2YCQlC5IXDJ-",
        "outputId": "adf08fe2-1f44-4d3c-f5bf-a4aa4f70a4d8"
      },
      "outputs": [
        {
          "name": "stdout",
          "output_type": "stream",
          "text": [
            "300 bread in the fridge, Sagar and Manmeet will eat\n"
          ]
        }
      ],
      "source": [
        "Name1 = \"Manmeet\"\n",
        "number_of_bread = 300\n",
        "text = \"%d bread in the fridge, %s and %s will eat\" %(number_of_bread,Name, Name1)\n",
        "print(text)"
      ]
    },
    {
      "cell_type": "code",
      "execution_count": null,
      "metadata": {
        "colab": {
          "base_uri": "https://localhost:8080/"
        },
        "id": "2JZuzHeLBR4-",
        "outputId": "3a437946-5292-4275-fd83-2999e69ce45c"
      },
      "outputs": [
        {
          "data": {
            "text/plain": [
              "str"
            ]
          },
          "execution_count": 31,
          "metadata": {},
          "output_type": "execute_result"
        }
      ],
      "source": [
        "type(Name)"
      ]
    },
    {
      "cell_type": "code",
      "execution_count": null,
      "metadata": {
        "colab": {
          "base_uri": "https://localhost:8080/"
        },
        "id": "IhrNjeUHdHEd",
        "outputId": "f0762f99-2dcd-4de9-e8be-16a5796e7821",
        "scrolled": true
      },
      "outputs": [
        {
          "name": "stdout",
          "output_type": "stream",
          "text": [
            "my share = 24.50000, tip =   555\n"
          ]
        }
      ],
      "source": [
        "total= \"my share = %.5f, tip = %5d\" %(24.5, 555.5)\n",
        "print(total)"
      ]
    },
    {
      "cell_type": "code",
      "execution_count": null,
      "metadata": {
        "colab": {
          "base_uri": "https://localhost:8080/"
        },
        "id": "-ys2Eo35dHEf",
        "outputId": "0fdf7883-e93a-474e-93e1-a2585d5fde52",
        "scrolled": true
      },
      "outputs": [
        {
          "name": "stdout",
          "output_type": "stream",
          "text": [
            "HELLO WORLD\n",
            "False\n",
            "Hello World\n",
            "True\n",
            "True\n"
          ]
        }
      ],
      "source": [
        "#more string ops\n",
        "#https://docs.python.org/3/library/stdtypes.html#string-methods\n",
        "my_str=\"Hello World\"\n",
        "print(my_str.upper())\n",
        "print(my_str.isalpha())\n",
        "print(my_str)\n",
        "print(my_str[0].isalpha())\n",
        "a='12'\n",
        "print(a.isdigit())"
      ]
    },
    {
      "cell_type": "markdown",
      "metadata": {
        "id": "_GSJRSDDdHEj"
      },
      "source": [
        "<a id='list'></a>\n",
        "## Lists\n",
        "* Collection of data [ ]\n",
        "* Often used to store homogeneous values\n",
        "    * e.g., Numbers, names with the same data type\n",
        "* Mutable: modify in place without creating a new object\n"
      ]
    },
    {
      "cell_type": "code",
      "execution_count": null,
      "metadata": {
        "colab": {
          "base_uri": "https://localhost:8080/"
        },
        "id": "kjuBDd2CdHEj",
        "outputId": "11377682-5c18-4b55-cb20-8248985ef984"
      },
      "outputs": [
        {
          "name": "stdout",
          "output_type": "stream",
          "text": [
            "[1, 2, 9, 4]\n"
          ]
        }
      ],
      "source": [
        "my_list = [1,2,9,4]\n",
        "print(my_list)\n",
        "#how to find out the data type?"
      ]
    },
    {
      "cell_type": "code",
      "execution_count": null,
      "metadata": {
        "colab": {
          "base_uri": "https://localhost:8080/"
        },
        "id": "QyydA_NKEiTz",
        "outputId": "d194a659-dbb8-4233-e604-8828bce51911"
      },
      "outputs": [
        {
          "name": "stdout",
          "output_type": "stream",
          "text": [
            "<class 'list'>\n"
          ]
        }
      ],
      "source": [
        "print(type(my_list))"
      ]
    },
    {
      "cell_type": "code",
      "execution_count": null,
      "metadata": {
        "colab": {
          "base_uri": "https://localhost:8080/"
        },
        "id": "5RGeAbwqdHEm",
        "outputId": "46bee114-85ee-4e1d-d4b6-624b69ce1194"
      },
      "outputs": [
        {
          "name": "stdout",
          "output_type": "stream",
          "text": [
            "[-4, -2, 0, 2, 4, 6, 8]\n"
          ]
        }
      ],
      "source": [
        "my_list2 = list(range(-4,10,2))\n",
        "print(my_list2)"
      ]
    },
    {
      "cell_type": "code",
      "execution_count": null,
      "metadata": {
        "colab": {
          "base_uri": "https://localhost:8080/"
        },
        "id": "o_Kpc9EjdHEp",
        "outputId": "67013c9c-35d7-4041-ae86-7fd032899126"
      },
      "outputs": [
        {
          "name": "stdout",
          "output_type": "stream",
          "text": [
            "1st element = 1\n",
            "last element = 4\n"
          ]
        }
      ],
      "source": [
        "# access list members by index \n",
        "# start at 0, end at n-1\n",
        "print(\"1st element =\", my_list[0])\n",
        "print(\"last element =\", my_list[3])"
      ]
    },
    {
      "cell_type": "code",
      "execution_count": null,
      "metadata": {
        "colab": {
          "base_uri": "https://localhost:8080/"
        },
        "id": "iEmUEwyYdHEr",
        "outputId": "a72c07b6-1fd6-4da2-af65-2a8899ca6e08"
      },
      "outputs": [
        {
          "name": "stdout",
          "output_type": "stream",
          "text": [
            "[1, 2, 9, 4, -4, -2, 0, 2, 4, 6, 8]\n",
            "[1, 2, 9, 4, 1, 2, 9, 4]\n",
            "[1, 2, 9, 4, 1, 2, 9, 4, 1, 2, 9, 4]\n",
            "[1, 2, 9, 4, 1, 2, 9, 4, 1, 2, 9, 4, 1, 2, 9, 4, 1, 2, 9, 4]\n",
            "[1, 2, 9, 4]\n"
          ]
        }
      ],
      "source": [
        "#Contatenate lists\n",
        "print(my_list + my_list2)\n",
        "print(my_list *2)\n",
        "print(my_list *3)\n",
        "print(my_list *5)\n",
        "print(my_list)"
      ]
    },
    {
      "cell_type": "code",
      "execution_count": null,
      "metadata": {
        "colab": {
          "base_uri": "https://localhost:8080/"
        },
        "id": "FJIrrjo4dHEx",
        "outputId": "17cdc7bb-ea47-4c0a-f8a9-5adcfefe11f3",
        "scrolled": true
      },
      "outputs": [
        {
          "name": "stdout",
          "output_type": "stream",
          "text": [
            "[2, 9, 4]\n",
            "[2, 9, 4, 99]\n",
            "[2, 100, 9, 4, 99]\n"
          ]
        }
      ],
      "source": [
        "# modify list\n",
        "del my_list[0]; print(my_list)\n",
        "my_list.append(99); print(my_list)\n",
        "my_list.insert(1, 100); print(my_list)"
      ]
    },
    {
      "cell_type": "code",
      "execution_count": null,
      "metadata": {
        "colab": {
          "base_uri": "https://localhost:8080/"
        },
        "id": "Sbs8IVSfdHEy",
        "outputId": "747ea8ed-da36-4170-88ae-7b52dc231534",
        "scrolled": true
      },
      "outputs": [
        {
          "name": "stdout",
          "output_type": "stream",
          "text": [
            "[2, 4, 9, 99, 100]\n",
            "[100, 99, 9, 4, 2]\n"
          ]
        }
      ],
      "source": [
        "#some list funs\n",
        "my_list.sort(); print(my_list)\n",
        "my_list.reverse(); print(my_list)"
      ]
    },
    {
      "cell_type": "code",
      "execution_count": null,
      "metadata": {
        "colab": {
          "base_uri": "https://localhost:8080/"
        },
        "id": "A0YNmTRu0n1a",
        "outputId": "182fe78c-dd52-45ee-9867-8f2dd24b2764"
      },
      "outputs": [
        {
          "name": "stdout",
          "output_type": "stream",
          "text": [
            "['1', '100', '21', '70']\n",
            "None\n"
          ]
        }
      ],
      "source": [
        "my_list4 = ['1','70','21','100']\n",
        "y = my_list4.sort()\n",
        "print(my_list4)\n",
        "print(y)"
      ]
    },
    {
      "cell_type": "code",
      "execution_count": null,
      "metadata": {
        "colab": {
          "base_uri": "https://localhost:8080/"
        },
        "id": "NQUYj0__dHE1",
        "outputId": "a74db6be-dc4f-4161-e7a3-b20f3fb4e3b3",
        "scrolled": true
      },
      "outputs": [
        {
          "name": "stdout",
          "output_type": "stream",
          "text": [
            "['DOGS', 'SHEEP', 'cats', 'horses']\n",
            "['cats', 'DOGS', 'SHEEP', 'horses']\n",
            "['horses', 'cats', 'SHEEP', 'DOGS']\n",
            "['cats', 'SHEEP', 'DOGS', 'horses']\n"
          ]
        }
      ],
      "source": [
        "#more sorting\n",
        "my_list3 = ['cats', 'SHEEP','DOGS','horses']\n",
        "print(sorted(my_list3))\n",
        "print(sorted(my_list3, key=len))\n",
        "print(sorted(my_list3, reverse=True))\n",
        "print(my_list3)"
      ]
    },
    {
      "cell_type": "code",
      "execution_count": null,
      "metadata": {
        "colab": {
          "base_uri": "https://localhost:8080/"
        },
        "id": "CdUSt4ehAarO",
        "outputId": "38fc15dc-58e2-49ce-9f24-d15254d326f1"
      },
      "outputs": [
        {
          "name": "stdout",
          "output_type": "stream",
          "text": [
            "None\n"
          ]
        }
      ],
      "source": [
        "print('{}'.format(my_list3.sort()))"
      ]
    },
    {
      "cell_type": "code",
      "execution_count": null,
      "metadata": {
        "colab": {
          "base_uri": "https://localhost:8080/"
        },
        "id": "RzRA23WMdHE7",
        "outputId": "81f0a0bf-2731-43ac-fa01-2f47394022bd"
      },
      "outputs": [
        {
          "data": {
            "text/plain": [
              "['cats', 'DOGS', 'horses', 'SHEEP']"
            ]
          },
          "execution_count": 44,
          "metadata": {},
          "output_type": "execute_result"
        }
      ],
      "source": [
        "# sort by lowercase\n",
        "sorted(my_list3, key=str.lower)"
      ]
    },
    {
      "cell_type": "markdown",
      "metadata": {
        "id": "SHQYeFQadHE_"
      },
      "source": [
        "<a id='tuple'></a>\n",
        "## Tuples\n",
        "\n",
        "  * Why Tuple?\n",
        "  * Processed faster than lists\n",
        "  * Sequence of a Tuple is protected\n",
        "  * Sequence unpacking\n",
        "\n",
        "<b>Tuple</b> is same as <b>List</b>, the only difference is that tuples are <b>immutable. Faster</b> than list as it cannot be modified dynamically\n",
        "\n",
        "Suprising Trait:\n",
        "\n",
        "Python tuples are immutable, but their values may change. This may happen when a tuple holds a reference to any mutable object, such as a list. ... It's clear that dum and dee refer to objects that are equal, but not to the same object."
      ]
    },
    {
      "cell_type": "code",
      "execution_count": null,
      "metadata": {
        "colab": {
          "base_uri": "https://localhost:8080/"
        },
        "id": "331x350XgbOG",
        "outputId": "fd6a7e73-26db-491a-f0e8-29330a922d0c"
      },
      "outputs": [
        {
          "name": "stdout",
          "output_type": "stream",
          "text": [
            "(1, 2, 'three')\n",
            "()\n"
          ]
        }
      ],
      "source": [
        "my_tuple = 1, 2, 'three'\n",
        "print(my_tuple)\n",
        "#empty tuples\n",
        "my_empty_tuple = ()\n",
        "print(my_empty_tuple)"
      ]
    },
    {
      "cell_type": "code",
      "execution_count": null,
      "metadata": {
        "colab": {
          "base_uri": "https://localhost:8080/"
        },
        "id": "PWELXBmJg0LR",
        "outputId": "e2f47d17-546b-448f-b23c-8dc0d151f289",
        "scrolled": true
      },
      "outputs": [
        {
          "name": "stdout",
          "output_type": "stream",
          "text": [
            "(50,)\n"
          ]
        },
        {
          "data": {
            "text/plain": [
              "tuple"
            ]
          },
          "execution_count": 52,
          "metadata": {},
          "output_type": "execute_result"
        }
      ],
      "source": [
        "# you have to include a comma, even though there is only one value\n",
        "tup1 = (50,);\n",
        "print(tup1)\n",
        "type(tup1)"
      ]
    },
    {
      "cell_type": "code",
      "execution_count": null,
      "metadata": {
        "colab": {
          "base_uri": "https://localhost:8080/"
        },
        "id": "dWoRTPMtgF_r",
        "outputId": "a0f22325-8a9a-46fb-ac1c-237886969043"
      },
      "outputs": [
        {
          "name": "stdout",
          "output_type": "stream",
          "text": [
            "<class 'tuple'>\n"
          ]
        },
        {
          "data": {
            "text/plain": [
              "tuple"
            ]
          },
          "execution_count": 53,
          "metadata": {},
          "output_type": "execute_result"
        }
      ],
      "source": [
        "tup2 = (50, 23)\n",
        "print(type(tup2))\n",
        "#tup2 = 50,\n",
        "type(tup2)"
      ]
    },
    {
      "cell_type": "code",
      "execution_count": null,
      "metadata": {
        "colab": {
          "base_uri": "https://localhost:8080/",
          "height": 167
        },
        "id": "xgBgkKQpJLd7",
        "outputId": "99a9c49e-c656-4462-b675-6a98ede45bb3"
      },
      "outputs": [
        {
          "ename": "TypeError",
          "evalue": "ignored",
          "output_type": "error",
          "traceback": [
            "\u001b[0;31m---------------------------------------------------------------------------\u001b[0m",
            "\u001b[0;31mTypeError\u001b[0m                                 Traceback (most recent call last)",
            "\u001b[0;32m<ipython-input-54-f5f936d5c5d7>\u001b[0m in \u001b[0;36m<module>\u001b[0;34m\u001b[0m\n\u001b[0;32m----> 1\u001b[0;31m \u001b[0mtup2\u001b[0m\u001b[0;34m[\u001b[0m\u001b[0;36m1\u001b[0m\u001b[0;34m]\u001b[0m\u001b[0;34m=\u001b[0m\u001b[0;36m32\u001b[0m\u001b[0;34m\u001b[0m\u001b[0;34m\u001b[0m\u001b[0m\n\u001b[0m",
            "\u001b[0;31mTypeError\u001b[0m: 'tuple' object does not support item assignment"
          ]
        }
      ],
      "source": [
        "tup2[1]=32"
      ]
    },
    {
      "cell_type": "code",
      "execution_count": null,
      "metadata": {
        "colab": {
          "base_uri": "https://localhost:8080/"
        },
        "id": "nlgKsOibdHE_",
        "outputId": "41b635c2-cfc5-4bd1-d818-9e0cf0601bb4"
      },
      "outputs": [
        {
          "name": "stdout",
          "output_type": "stream",
          "text": [
            "(2, 8, 3, 1)\n",
            "2 8 3 1\n"
          ]
        }
      ],
      "source": [
        "my_tup = (2, 8, 3, 1 )\n",
        "print(my_tup)\n",
        "a,b,c,d = my_tup\n",
        "print(a, b, c, d)\n"
      ]
    },
    {
      "cell_type": "code",
      "execution_count": null,
      "metadata": {
        "colab": {
          "base_uri": "https://localhost:8080/"
        },
        "id": "d85nI5mKdHFD",
        "outputId": "68148724-a327-4d53-98ae-0cd51795a6f2"
      },
      "outputs": [
        {
          "name": "stdout",
          "output_type": "stream",
          "text": [
            "2\n"
          ]
        }
      ],
      "source": [
        "print(my_tup[0])"
      ]
    },
    {
      "cell_type": "code",
      "execution_count": null,
      "metadata": {
        "colab": {
          "base_uri": "https://localhost:8080/"
        },
        "id": "xhYi3QKSh7-Z",
        "outputId": "c5beedd3-3384-44e4-d4b7-50240cf88de7"
      },
      "outputs": [
        {
          "name": "stdout",
          "output_type": "stream",
          "text": [
            "('physics', 'chemistry', 1997, 2000)\n"
          ]
        }
      ],
      "source": [
        "tup = ('physics', 'chemistry', 1997, 2000)\n",
        "print(tup)\n"
      ]
    },
    {
      "cell_type": "code",
      "execution_count": null,
      "metadata": {
        "colab": {
          "base_uri": "https://localhost:8080/",
          "height": 220
        },
        "id": "RzZ8Nutc2vNi",
        "outputId": "6a7bc40d-37cd-4f97-86c9-0ad039894ee9"
      },
      "outputs": [
        {
          "name": "stdout",
          "output_type": "stream",
          "text": [
            "After deleting tup : \n"
          ]
        },
        {
          "ename": "NameError",
          "evalue": "ignored",
          "output_type": "error",
          "traceback": [
            "\u001b[0;31m---------------------------------------------------------------------------\u001b[0m",
            "\u001b[0;31mNameError\u001b[0m                                 Traceback (most recent call last)",
            "\u001b[0;32m<ipython-input-60-8f9bcd963457>\u001b[0m in \u001b[0;36m<module>\u001b[0;34m\u001b[0m\n\u001b[1;32m      1\u001b[0m \u001b[0;32mdel\u001b[0m \u001b[0mtup\u001b[0m\u001b[0;34m\u001b[0m\u001b[0;34m\u001b[0m\u001b[0m\n\u001b[1;32m      2\u001b[0m \u001b[0mprint\u001b[0m\u001b[0;34m(\u001b[0m\u001b[0;34m\"After deleting tup : \"\u001b[0m\u001b[0;34m)\u001b[0m\u001b[0;34m;\u001b[0m\u001b[0;34m\u001b[0m\u001b[0;34m\u001b[0m\u001b[0m\n\u001b[0;32m----> 3\u001b[0;31m \u001b[0mprint\u001b[0m\u001b[0;34m(\u001b[0m\u001b[0mtup\u001b[0m\u001b[0;34m)\u001b[0m\u001b[0;34m\u001b[0m\u001b[0;34m\u001b[0m\u001b[0m\n\u001b[0m",
            "\u001b[0;31mNameError\u001b[0m: name 'tup' is not defined"
          ]
        }
      ],
      "source": [
        "del tup\n",
        "print(\"After deleting tup : \");\n",
        "print(tup)"
      ]
    },
    {
      "cell_type": "markdown",
      "metadata": {
        "id": "NyCpkyAXh21a"
      },
      "source": [
        "Immutable?  Not?"
      ]
    },
    {
      "cell_type": "code",
      "execution_count": null,
      "metadata": {
        "colab": {
          "base_uri": "https://localhost:8080/"
        },
        "id": "Iw50ZE55xwG_",
        "outputId": "e0a64ef9-c9a4-4d35-ccce-f35043bdcf23"
      },
      "outputs": [
        {
          "name": "stdout",
          "output_type": "stream",
          "text": [
            "True\n",
            "False\n"
          ]
        },
        {
          "data": {
            "text/plain": [
              "(139835612632000, 139835612419568)"
            ]
          },
          "execution_count": 1,
          "metadata": {},
          "output_type": "execute_result"
        }
      ],
      "source": [
        "dum = ('1861-10-23', ['poetry', 'pretend-fight'])\n",
        "dee = ('1861-10-23', ['poetry', 'pretend-fight'])\n",
        "\n",
        "print(dum == dee)\n",
        "\n",
        "print(dum is dee)\n",
        "\n",
        "id(dum), id(dee)"
      ]
    },
    {
      "cell_type": "code",
      "execution_count": null,
      "metadata": {
        "colab": {
          "base_uri": "https://localhost:8080/"
        },
        "id": "l0RXAHIhyNBX",
        "outputId": "de4bb9dc-56d6-41a9-87a5-03b0b2f8dcd2"
      },
      "outputs": [
        {
          "name": "stdout",
          "output_type": "stream",
          "text": [
            "('1861-10-23', ['poetry', 'pretend-fight']) ('1861-10-23', ['poetry', 'pretend-fight'])\n",
            "True\n",
            "True\n"
          ]
        },
        {
          "data": {
            "text/plain": [
              "(139835612632000, 139835612632000)"
            ]
          },
          "execution_count": 2,
          "metadata": {},
          "output_type": "execute_result"
        }
      ],
      "source": [
        "t_doom = dum\n",
        "print(dum, t_doom)\n",
        "\n",
        "print(t_doom == dum)\n",
        "print(t_doom is dum)\n",
        "id(t_doom), id(dum)"
      ]
    },
    {
      "cell_type": "code",
      "execution_count": null,
      "metadata": {
        "colab": {
          "base_uri": "https://localhost:8080/"
        },
        "id": "TCIJtKzWzEQd",
        "outputId": "d0bf8575-ac69-4df3-89fc-28d8b7c31903"
      },
      "outputs": [
        {
          "name": "stdout",
          "output_type": "stream",
          "text": [
            "['poetry', 'pretend-fight']\n",
            "('1861-10-23', ['poetry', 'pretend-fight', 'rap'])\n"
          ]
        }
      ],
      "source": [
        "skills = t_doom[1]\n",
        "print(skills)\n",
        "\n",
        "skills.append('rap')\n",
        "print(t_doom)\n"
      ]
    },
    {
      "cell_type": "code",
      "execution_count": null,
      "metadata": {
        "colab": {
          "base_uri": "https://localhost:8080/"
        },
        "id": "23NrzRmr0LFf",
        "outputId": "6508a938-2092-4f83-bbf3-ba1103ac9dd2",
        "scrolled": true
      },
      "outputs": [
        {
          "name": "stdout",
          "output_type": "stream",
          "text": [
            "False\n",
            "('1861-10-23', ['poetry', 'pretend-fight', 'rap'])\n"
          ]
        }
      ],
      "source": [
        "print(dum == dee)\n",
        "print(dum)"
      ]
    },
    {
      "cell_type": "code",
      "execution_count": null,
      "metadata": {
        "colab": {
          "base_uri": "https://localhost:8080/",
          "height": 167
        },
        "id": "GA0WwYXb3rHJ",
        "outputId": "daad94a8-f7c0-422b-f66a-36ae1ac4d08b"
      },
      "outputs": [
        {
          "ename": "TypeError",
          "evalue": "ignored",
          "output_type": "error",
          "traceback": [
            "\u001b[0;31m---------------------------------------------------------------------------\u001b[0m",
            "\u001b[0;31mTypeError\u001b[0m                                 Traceback (most recent call last)",
            "\u001b[0;32m<ipython-input-6-83d7dd421106>\u001b[0m in \u001b[0;36m<module>\u001b[0;34m\u001b[0m\n\u001b[0;32m----> 1\u001b[0;31m \u001b[0mdum\u001b[0m\u001b[0;34m[\u001b[0m\u001b[0;36m1\u001b[0m\u001b[0;34m]\u001b[0m\u001b[0;34m=\u001b[0m\u001b[0;34m[\u001b[0m\u001b[0;36m1\u001b[0m\u001b[0;34m,\u001b[0m\u001b[0;36m2\u001b[0m\u001b[0;34m,\u001b[0m\u001b[0;36m3\u001b[0m\u001b[0;34m]\u001b[0m\u001b[0;34m\u001b[0m\u001b[0;34m\u001b[0m\u001b[0m\n\u001b[0m",
            "\u001b[0;31mTypeError\u001b[0m: 'tuple' object does not support item assignment"
          ]
        }
      ],
      "source": [
        "dum[1]=[1,2,3]"
      ]
    },
    {
      "cell_type": "code",
      "execution_count": null,
      "metadata": {
        "id": "Yng5Xa1P3Aw1"
      },
      "outputs": [],
      "source": [
        "dob = t_doom[0]\n",
        "dob = '19June'"
      ]
    },
    {
      "cell_type": "code",
      "execution_count": null,
      "metadata": {
        "colab": {
          "base_uri": "https://localhost:8080/"
        },
        "id": "eIR01hKP3XEz",
        "outputId": "e8c01f40-dbf4-474c-cc7c-fa198c38d6ac"
      },
      "outputs": [
        {
          "data": {
            "text/plain": [
              "('1861-10-23', ['poetry', 'pretend-fight', 'rap'])"
            ]
          },
          "execution_count": 8,
          "metadata": {},
          "output_type": "execute_result"
        }
      ],
      "source": [
        "t_doom"
      ]
    },
    {
      "cell_type": "markdown",
      "metadata": {
        "id": "P_8Ehoc8iDqE"
      },
      "source": [
        "<b>Set</b> is an unordered collection of unique items"
      ]
    },
    {
      "cell_type": "code",
      "execution_count": null,
      "metadata": {
        "colab": {
          "base_uri": "https://localhost:8080/"
        },
        "id": "IvUuUHYoiCWw",
        "outputId": "7e8eeadc-2c45-4c8a-c39b-c5f166d8a53b"
      },
      "outputs": [
        {
          "name": "stdout",
          "output_type": "stream",
          "text": [
            "{1, 2, 3, 4, 5}\n"
          ]
        }
      ],
      "source": [
        "#Python Set\n",
        "set1 = {3, 4, 5, 1, 2, 5}\n",
        "print(set1)"
      ]
    },
    {
      "cell_type": "code",
      "execution_count": null,
      "metadata": {
        "colab": {
          "base_uri": "https://localhost:8080/"
        },
        "id": "7VVjijmiiOvf",
        "outputId": "d60f820d-ec43-491a-b08f-8f9733e3a392"
      },
      "outputs": [
        {
          "name": "stdout",
          "output_type": "stream",
          "text": [
            "{1, 2, 3, 4, 5, 9}\n",
            "{1, 2, 3, 4, 5, 9, 10}\n",
            "{1, 3, 4, 5, 9, 10}\n",
            "{1, 3, 4, 9, 10}\n",
            "{3, 4, 9, 10}\n",
            "set()\n"
          ]
        }
      ],
      "source": [
        "#Operations on Set\n",
        "set1.add(9) #Add Element to Set\n",
        "print(set1)\n",
        "set1.update([3, 10]) #Update existing Set with new elements\n",
        "print(set1)\n",
        "set1.discard(2) #Removes an element from the Set (No Error if element does not exists, Set remains unchanged)\n",
        "print(set1)\n",
        "set1.remove(5) #Removes an element from the Set (Raises an error in element does not exists)\n",
        "print(set1)\n",
        "set1.pop() #removes random element\n",
        "print(set1)\n",
        "set1.clear() #Removes all elements from the Set \n",
        "print(set1)"
      ]
    },
    {
      "cell_type": "code",
      "execution_count": null,
      "metadata": {
        "colab": {
          "base_uri": "https://localhost:8080/"
        },
        "id": "cRzg0yP1iRea",
        "outputId": "a01e98bc-e2ba-49d1-d61c-85849a740666"
      },
      "outputs": [
        {
          "name": "stdout",
          "output_type": "stream",
          "text": [
            "{1, 2, 3, 4, 5}\n",
            "{1, 2, 3, 4, 5}\n"
          ]
        }
      ],
      "source": [
        "set1 = {1, 2, 3, 4}\n",
        "set2 = {3, 4, 5}\n",
        "print(set1|set2)\n",
        "print(set1.union(set2))"
      ]
    },
    {
      "cell_type": "code",
      "execution_count": null,
      "metadata": {
        "colab": {
          "base_uri": "https://localhost:8080/",
          "height": 200
        },
        "id": "AXpOOMPkaAmf",
        "outputId": "664c7c44-bc14-436a-c957-51f83384d3d0"
      },
      "outputs": [
        {
          "ename": "NameError",
          "evalue": "ignored",
          "output_type": "error",
          "traceback": [
            "\u001b[0;31m---------------------------------------------------------------------------\u001b[0m",
            "\u001b[0;31mNameError\u001b[0m                                 Traceback (most recent call last)",
            "\u001b[0;32m<ipython-input-25-a7a54f7cc597>\u001b[0m in \u001b[0;36m<module>\u001b[0;34m\u001b[0m\n\u001b[1;32m      1\u001b[0m \u001b[0mset1\u001b[0m \u001b[0;34m=\u001b[0m \u001b[0;34m{\u001b[0m\u001b[0;36m11\u001b[0m\u001b[0;34m,\u001b[0m \u001b[0;36m12\u001b[0m\u001b[0;34m,\u001b[0m \u001b[0;36m13\u001b[0m\u001b[0;34m,\u001b[0m \u001b[0;36m14\u001b[0m\u001b[0;34m}\u001b[0m\u001b[0;34m\u001b[0m\u001b[0;34m\u001b[0m\u001b[0m\n\u001b[1;32m      2\u001b[0m \u001b[0mset2\u001b[0m \u001b[0;34m=\u001b[0m \u001b[0;34m{\u001b[0m\u001b[0;36m13\u001b[0m\u001b[0;34m,\u001b[0m \u001b[0;36m14\u001b[0m\u001b[0;34m,\u001b[0m \u001b[0;36m15\u001b[0m\u001b[0;34m}\u001b[0m\u001b[0;34m\u001b[0m\u001b[0;34m\u001b[0m\u001b[0m\n\u001b[0;32m----> 3\u001b[0;31m \u001b[0mprint\u001b[0m\u001b[0;34m(\u001b[0m\u001b[0mset1union\u001b[0m\u001b[0;34m(\u001b[0m\u001b[0mset2\u001b[0m\u001b[0;34m)\u001b[0m\u001b[0;34m)\u001b[0m\u001b[0;34m\u001b[0m\u001b[0;34m\u001b[0m\u001b[0m\n\u001b[0m",
            "\u001b[0;31mNameError\u001b[0m: name 'set1union' is not defined"
          ]
        }
      ],
      "source": [
        "set1 = {11, 12, 13, 14}\n",
        "set2 = {13, 14, 15}\n",
        "print(set1union(set2))"
      ]
    },
    {
      "cell_type": "code",
      "execution_count": null,
      "metadata": {
        "colab": {
          "base_uri": "https://localhost:8080/"
        },
        "id": "9Qt-mRVtiTue",
        "outputId": "a25bea24-1278-47f5-b038-5997696b5763"
      },
      "outputs": [
        {
          "name": "stdout",
          "output_type": "stream",
          "text": [
            "{3, 4}\n",
            "{3, 4}\n"
          ]
        }
      ],
      "source": [
        "print(set1&set2)\n",
        "print(set1.intersection(set2))"
      ]
    },
    {
      "cell_type": "code",
      "execution_count": null,
      "metadata": {
        "colab": {
          "base_uri": "https://localhost:8080/"
        },
        "id": "032bmKtDiWnS",
        "outputId": "0ffb5ba3-8ece-4711-c1d5-d72f01989562"
      },
      "outputs": [
        {
          "name": "stdout",
          "output_type": "stream",
          "text": [
            "{1, 2}\n",
            "{1, 2}\n"
          ]
        }
      ],
      "source": [
        "print(set1-set2)\n",
        "print(set1.difference(set2))"
      ]
    },
    {
      "cell_type": "code",
      "execution_count": null,
      "metadata": {
        "colab": {
          "base_uri": "https://localhost:8080/"
        },
        "id": "U-MQ0x9piZ5S",
        "outputId": "a1db6e28-50ad-4374-92e8-a884fc7c872f"
      },
      "outputs": [
        {
          "name": "stdout",
          "output_type": "stream",
          "text": [
            "{1, 2, 5}\n",
            "{1, 2, 5}\n"
          ]
        }
      ],
      "source": [
        "print(set1^set2)\n",
        "print(set1.symmetric_difference(set2))"
      ]
    },
    {
      "cell_type": "markdown",
      "metadata": {
        "id": "7NHEdgtwdHFG"
      },
      "source": [
        "<a id='dic'></a>\n",
        "## Dictionaries\n",
        "* List of key-value pairs { }\n",
        "* Unordered collections of objects, not indexed\n",
        "* Store objects in a random order to provide faster lookup\n",
        "* Data type are heterogeneous\n",
        "* Element are accessed by a keyword, not index\n",
        "* Elements are mutable \n",
        "* dict = {\"key1”: value1,  “key2”: value2} \n",
        "\n",
        "<b>Dictionary</b> is an unordered collection of 'key':'value' pairs. It is generally used when we have a huge amount of data.\n",
        "Dictionaries are optimized for retrieving data."
      ]
    },
    {
      "cell_type": "code",
      "execution_count": null,
      "metadata": {
        "colab": {
          "base_uri": "https://localhost:8080/"
        },
        "id": "9gcG6o9NdHFG",
        "outputId": "92688b94-df27-4a7a-818c-dad0fae1436e",
        "scrolled": true
      },
      "outputs": [
        {
          "name": "stdout",
          "output_type": "stream",
          "text": [
            "<class 'dict'>\n"
          ]
        }
      ],
      "source": [
        "#Python Dictionary\n",
        "dict1 = {1:'value', 'key':2}\n",
        "print(type(dict1))"
      ]
    },
    {
      "cell_type": "code",
      "execution_count": null,
      "metadata": {
        "id": "U3wR8q90lWEx"
      },
      "outputs": [],
      "source": [
        "dict1['key']"
      ]
    },
    {
      "cell_type": "code",
      "execution_count": null,
      "metadata": {
        "colab": {
          "base_uri": "https://localhost:8080/"
        },
        "id": "ObA5EWGWdHFL",
        "outputId": "5918b893-2a08-4154-bfb8-4079abeccb78",
        "scrolled": true
      },
      "outputs": [
        {
          "name": "stdout",
          "output_type": "stream",
          "text": [
            "Faculty\n",
            "College\n"
          ]
        }
      ],
      "source": [
        "#Create Dictionary in Python\n",
        "dict2={\"Sagar\":\"Faculty\", \"SIT\":\"College\"}\n",
        "print(dict2[\"Sagar\"])\n",
        "print(dict2[\"SIT\"])"
      ]
    },
    {
      "cell_type": "code",
      "execution_count": null,
      "metadata": {
        "id": "TuUKBJF6kJex"
      },
      "outputs": [],
      "source": [
        "#Update value of a key in Python Dictionary\n",
        "dict2[\"Sagar\"]=\"Asst. Prof.\"\n",
        "print(dict2[\"Sagar\"])\n",
        "dict2"
      ]
    },
    {
      "cell_type": "code",
      "execution_count": null,
      "metadata": {
        "id": "UbIhH3cSjySc"
      },
      "outputs": [],
      "source": [
        "#Add new element to the existing Python Dictionary\n",
        "dict2[\"Amit\"]=\"Asst. Prof.\"\n",
        "print(dict2[\"Amit\"])\n",
        "print(dict2)"
      ]
    },
    {
      "cell_type": "code",
      "execution_count": null,
      "metadata": {
        "id": "VNSCBGHSdHFN",
        "scrolled": true
      },
      "outputs": [],
      "source": [
        "dict3 = sorted(dict2);\n",
        "print(dict3)\n",
        "print(dict2.values())\n",
        "dict2.keys()\n",
        "type(dict3)"
      ]
    },
    {
      "cell_type": "code",
      "execution_count": null,
      "metadata": {
        "id": "s6ICcl20oD28"
      },
      "outputs": [],
      "source": [
        "for i in sorted(dict2):\n",
        "  #print((i, dict2[i]), end = \" \")\n",
        "  print('{0} : {1}'.format(i, dict2[i]))"
      ]
    },
    {
      "cell_type": "code",
      "execution_count": null,
      "metadata": {
        "colab": {
          "base_uri": "https://localhost:8080/"
        },
        "id": "PQSk2EJg1X-J",
        "outputId": "974e3a02-f128-4a74-b333-80f4fc7c83fa"
      },
      "outputs": [
        {
          "name": "stdout",
          "output_type": "stream",
          "text": [
            "1 2 3 4\n",
            "1#2#3#4$1 2 3 4\n",
            "1#2#3#4$"
          ]
        }
      ],
      "source": [
        "#Input/Output in Python\n",
        "#print(*objects, sep=' ', end='\\n', file=sys.stdout, flush=False)\n",
        "print(1,2,3,4)\n",
        "print(1,2,3,4, sep='#', end='$')\n",
        "print(1,2,3,4, sep=' ', end='\\n')\n",
        "print(1,2,3,4, sep='#', end='$', flush=True)"
      ]
    },
    {
      "cell_type": "code",
      "execution_count": null,
      "metadata": {
        "colab": {
          "base_uri": "https://localhost:8080/"
        },
        "id": "Imu9VQdGLGyD",
        "outputId": "cd2dd733-67a2-4c83-ed61-22bdea038b11"
      },
      "outputs": [
        {
          "name": "stdout",
          "output_type": "stream",
          "text": [
            "Two values are 9 and 5\n",
            "Two values are 5 and 9\n"
          ]
        }
      ],
      "source": [
        "x=5\n",
        "y=9\n",
        "print(\"Two values are {1} and {0}\".format(x,y))\n",
        "print(f'Two values are {x} and {y}')"
      ]
    },
    {
      "cell_type": "code",
      "execution_count": null,
      "metadata": {
        "colab": {
          "base_uri": "https://localhost:8080/"
        },
        "id": "xqpozVoRuBJ_",
        "outputId": "2d437c57-e61d-41b3-bcc2-b3f47bdee05c"
      },
      "outputs": [
        {
          "name": "stdout",
          "output_type": "stream",
          "text": [
            "I teach IoT and Python\n",
            "The examples of dictionary are {1: 'value', 'key': 2} and {'Sagar': 'Faculty', 'SIT': 'College'}\n"
          ]
        }
      ],
      "source": [
        "print('I teach {1} and {0}'.format('Python','IoT'))\n",
        "print('The examples of dictionary are {} and {}'.format(dict1, dict2))"
      ]
    },
    {
      "cell_type": "code",
      "execution_count": null,
      "metadata": {
        "colab": {
          "base_uri": "https://localhost:8080/"
        },
        "id": "0RKg4z_FrTd-",
        "outputId": "3f08c8e4-075d-44fe-a341-74eee44b4038"
      },
      "outputs": [
        {
          "name": "stdout",
          "output_type": "stream",
          "text": [
            "Enter a Number: 56\n",
            "56\n"
          ]
        }
      ],
      "source": [
        "num = input(\"Enter a Number: \")\n",
        "print(num)"
      ]
    },
    {
      "cell_type": "markdown",
      "metadata": {
        "id": "R7DyZUcJdHDp"
      },
      "source": [
        "### Operators in Python:\n",
        "    Arithmetic: +, -. /, *, %, // (Floor Division), ** (exponent operator)\n",
        "    Comparison: <, >, ==, !=, >=, <=\n",
        "    Logical: and, or, not\n",
        "    Bitwise: |, &, ~, ^, >>, <<\n",
        "    Assignment: =, +=, -=, *=, /=, //=, %=, **=, |=, &=, ^=, <<=, >>=\n",
        "    Identity: is, is not \n",
        "    Membership: in, not in\n",
        "    Ternary Operator: [on true] if(exp) else [on false]"
      ]
    },
    {
      "cell_type": "code",
      "execution_count": null,
      "metadata": {
        "colab": {
          "base_uri": "https://localhost:8080/"
        },
        "id": "pD1lRZeWdn9z",
        "outputId": "e2af3804-12f9-4349-8e2b-a1538ab7916b"
      },
      "outputs": [
        {
          "name": "stdout",
          "output_type": "stream",
          "text": [
            "Enter a Characterg\n",
            "Not Vowel\n"
          ]
        }
      ],
      "source": [
        "x = 5\n",
        "x += 5\n",
        "x*5\n",
        "8<<2\n",
        "letter = input('Enter a Character')\n",
        "print('Vowel') if letter in 'aeiou' else print('Not Vowel')"
      ]
    },
    {
      "cell_type": "code",
      "execution_count": null,
      "metadata": {
        "id": "inHSvW72l7zW"
      },
      "outputs": [],
      "source": [
        "~-2\n",
        "m = 5.5\n",
        "n = int(m)\n",
        "print(m==n)"
      ]
    },
    {
      "cell_type": "code",
      "execution_count": null,
      "metadata": {
        "id": "Mdlimv13Zny4"
      },
      "outputs": [],
      "source": [
        "#Ternary Operator in Python: [on true] if(exp) else [on false]\n",
        "a = int(input(\"Enter 1st number: \"))\n",
        "b = int(input(\"Enter 2nd number: \"))\n",
        "min = a if(a<b) else b\n",
        "print(min)"
      ]
    },
    {
      "cell_type": "code",
      "execution_count": null,
      "metadata": {
        "id": "fRaMP9JOWyXp"
      },
      "outputs": [],
      "source": [
        "print(\"Sagar\" in dict2)\n",
        "print(\"BIT\" not in dict2)"
      ]
    },
    {
      "cell_type": "code",
      "execution_count": null,
      "metadata": {
        "id": "_6209oXY5_kh"
      },
      "outputs": [],
      "source": [
        "H = {'A': 'Apple', 'B': 'Biscuit', 'C': 'Cup', 'D’: ‘Duck’, ‘E’: ‘Envelope’}\n",
        "'D':'Dog' in  H"
      ]
    },
    {
      "cell_type": "code",
      "execution_count": null,
      "metadata": {
        "colab": {
          "base_uri": "https://localhost:8080/"
        },
        "id": "Kvzqs5mRX0t9",
        "outputId": "7897af0f-2b25-4f84-8f5a-af0059227579"
      },
      "outputs": [
        {
          "name": "stdout",
          "output_type": "stream",
          "text": [
            "True\n",
            "False\n"
          ]
        }
      ],
      "source": [
        "Friends = ['sagar', 'amit', 'amol', 'kamlesh', 'kapil']\n",
        "print('amit' in Friends)\n",
        "print('kapil' not in Friends)\n",
        "\n",
        "x = input()\n",
        "y = input()\n",
        "z = input()\n",
        "print (x, 'is the largest number') if x>y and x>z else print (y, 'is the largest number') if y>z else print (z, 'is the largest number')"
      ]
    },
    {
      "cell_type": "code",
      "execution_count": null,
      "metadata": {
        "colab": {
          "base_uri": "https://localhost:8080/"
        },
        "id": "a0ZJKv8CpfQH",
        "outputId": "c63a58b6-2e01-4fdb-f1ec-5343f368b734"
      },
      "outputs": [
        {
          "name": "stdout",
          "output_type": "stream",
          "text": [
            "1\n",
            "2\n",
            "3\n",
            "3 is the largest number\n"
          ]
        }
      ],
      "source": [
        "x = input()\n",
        "y = input()\n",
        "z = input()\n",
        "print (x, 'is the largest number') if x>y and x>z else print (y, 'is the largest number') if y>z else print (z, 'is the largest number')"
      ]
    },
    {
      "cell_type": "code",
      "execution_count": null,
      "metadata": {
        "colab": {
          "base_uri": "https://localhost:8080/"
        },
        "id": "SCKcNkY_alRy",
        "outputId": "58863516-e5f0-4930-d236-b498509e12d0"
      },
      "outputs": [
        {
          "name": "stdout",
          "output_type": "stream",
          "text": [
            "28\n"
          ]
        }
      ],
      "source": [
        "#Generate Random Numbers in a range\n",
        "import random\n",
        "print(random.randint(1,69))"
      ]
    },
    {
      "cell_type": "markdown",
      "metadata": {
        "id": "e3KhBZ7HThw8"
      },
      "source": []
    },
    {
      "cell_type": "markdown",
      "metadata": {
        "id": "B838iS0rTldc"
      },
      "source": []
    },
    {
      "cell_type": "markdown",
      "metadata": {
        "id": "-Tutx90TQmTn"
      },
      "source": [
        "#Control Statements\n",
        "###selection statements\n",
        "if statement \\\\\n",
        "if ... else statement \\\\\n",
        "if ... elif ... else statement \\\\\n",
        "\n",
        "###iteration statements\n",
        "while statement (repeats as long as the condition is true) \\\\\n",
        "**Note:** Use while when number of iteration are not known/fixed \\\\\n",
        "for statement (repeats for every action in a sequence of items) \\\\\n",
        "**Note:** Use for when number of iterations are known/fixed\n"
      ]
    },
    {
      "cell_type": "code",
      "execution_count": null,
      "metadata": {
        "colab": {
          "base_uri": "https://localhost:8080/"
        },
        "id": "wc4_cBWiftn-",
        "outputId": "bc1b8af5-5276-4e0e-9ebc-80ae26fe3709"
      },
      "outputs": [
        {
          "name": "stdout",
          "output_type": "stream",
          "text": [
            "49\n",
            "8\n"
          ]
        }
      ],
      "source": [
        "##if\n",
        "if 1 > 5:\n",
        "    print('7 is Greater')\n",
        "print(7*7)\n",
        "print(3+5)"
      ]
    },
    {
      "cell_type": "code",
      "execution_count": null,
      "metadata": {
        "colab": {
          "base_uri": "https://localhost:8080/"
        },
        "id": "IQRUZfHOZ-jU",
        "outputId": "6a356ad0-b353-47fb-8cf7-af9da61e1851"
      },
      "outputs": [
        {
          "name": "stdout",
          "output_type": "stream",
          "text": [
            "Enter Num 1: 5\n",
            "Enter Num 2: 6\n",
            "Enter Num 3: 4\n",
            "Largest is 6.\n"
          ]
        }
      ],
      "source": [
        "x = int(input(\"Enter Num 1: \"))\n",
        "y = int(input(\"Enter Num 2: \"))\n",
        "z = int(input(\"Enter Num 3: \"))\n",
        "L = x\n",
        "if L<y:\n",
        "  L = y\n",
        "if L<z:\n",
        "  L = z\n",
        "print(f\"Largest is {L}.\")"
      ]
    },
    {
      "cell_type": "code",
      "execution_count": null,
      "metadata": {
        "colab": {
          "base_uri": "https://localhost:8080/"
        },
        "id": "V_ccSsnzZUy0",
        "outputId": "5fc12f46-8236-4e4d-f838-1d454518f3a7"
      },
      "outputs": [
        {
          "name": "stdout",
          "output_type": "stream",
          "text": [
            "Enter Element to be searched: 21\n",
            "Element not found\n",
            "SIT\n"
          ]
        }
      ],
      "source": [
        "##if ... else\n",
        "lst2 = [32, 45, 64, 37, 85]\n",
        "x = int(input(\"Enter Element to be searched: \"))\n",
        "if x in lst2:\n",
        "    print(\"Element found\")\n",
        "else:\n",
        "    print(\"Element not found\")\n",
        "    \n",
        "print(\"SIT\")"
      ]
    },
    {
      "cell_type": "code",
      "execution_count": null,
      "metadata": {
        "colab": {
          "base_uri": "https://localhost:8080/"
        },
        "id": "Wp7NYNKrlzEe",
        "outputId": "96c1cf43-147d-4c40-ba36-c781cc4c57e5"
      },
      "outputs": [
        {
          "name": "stdout",
          "output_type": "stream",
          "text": [
            "Enter a number: 21\n",
            "21 is less than 30\n"
          ]
        }
      ],
      "source": [
        "num1 = int(input(\"Enter a number: \"))\n",
        "if num1 > 30:\n",
        "  print(f\"{num1} is greater than 30\")\n",
        "else:\n",
        "  if num1 == 30:\n",
        "    print(f\"{num1} is equal than 30\")\n",
        "  else:\n",
        "    print(f\"{num1} is less than 30\")\n"
      ]
    },
    {
      "cell_type": "code",
      "execution_count": null,
      "metadata": {
        "colab": {
          "base_uri": "https://localhost:8080/"
        },
        "id": "dFsFB4TZg2Sw",
        "outputId": "53514b5a-980d-49ad-a2c9-92eab330080e"
      },
      "outputs": [
        {
          "name": "stdout",
          "output_type": "stream",
          "text": [
            "Enter any Number: 30\n",
            "x = 30\n"
          ]
        }
      ],
      "source": [
        "##if ... elif ... else\n",
        "x = int(input(\"Enter any Number: \"))\n",
        "if ( x > 30 ):\n",
        "  print(\"Hi, greater than 30\")\n",
        "elif ( x < 30 ):\n",
        "  \n",
        "  print(\"Hi, smaller than 30\")\n",
        "else:\n",
        "    print(\"x = 30\")"
      ]
    },
    {
      "cell_type": "code",
      "execution_count": null,
      "metadata": {
        "colab": {
          "base_uri": "https://localhost:8080/"
        },
        "id": "2kYntjDTv5A7",
        "outputId": "ae8bcd27-8b1c-4a21-fa63-90a6d82b941d"
      },
      "outputs": [
        {
          "name": "stdout",
          "output_type": "stream",
          "text": [
            "Enter any Number: 53\n",
            "C+\n"
          ]
        }
      ],
      "source": [
        "x = int(input(\"Enter any Number: \"))\n",
        "if x > 100:\n",
        "  print(\"Invalid Marks\")\n",
        "elif x > 90:\n",
        "  print(\"A+\")\n",
        "elif x > 80:\n",
        "  print(\"A\")\n",
        "elif x > 70:\n",
        "  print(\"B+\")\n",
        "elif x > 60:\n",
        "  print(\"B\")\n",
        "elif x > 50:\n",
        "  print(\"C+\")\n",
        "elif x > 40:\n",
        "  print(\"C\")\n",
        "else:\n",
        "  print(\"Fail\")\n"
      ]
    },
    {
      "cell_type": "code",
      "execution_count": null,
      "metadata": {
        "colab": {
          "base_uri": "https://localhost:8080/"
        },
        "id": "GYOB9vyBh5wr",
        "outputId": "42b9ae93-40ab-41f1-b20a-7370a17e1687"
      },
      "outputs": [
        {
          "name": "stdout",
          "output_type": "stream",
          "text": [
            "0\n",
            "1\n",
            "2\n",
            "3\n",
            "4\n",
            "5\n",
            "6\n",
            "7\n",
            "8\n",
            "9\n"
          ]
        }
      ],
      "source": [
        "##for using range\n",
        "for i in range(10):\n",
        "  print(i)"
      ]
    },
    {
      "cell_type": "code",
      "execution_count": null,
      "metadata": {
        "colab": {
          "base_uri": "https://localhost:8080/"
        },
        "id": "WTpY6vm4fl5y",
        "outputId": "ef336c0e-0cc9-4351-f8d1-f52ad56645b5"
      },
      "outputs": [
        {
          "name": "stdout",
          "output_type": "stream",
          "text": [
            "20\n",
            "18\n",
            "16\n",
            "14\n",
            "12\n",
            "10\n",
            "8\n",
            "6\n",
            "4\n",
            "2\n"
          ]
        }
      ],
      "source": [
        "##for using range\n",
        "for i in range(20,0,-2):\n",
        "  print(i)"
      ]
    },
    {
      "cell_type": "code",
      "execution_count": null,
      "metadata": {
        "colab": {
          "base_uri": "https://localhost:8080/"
        },
        "id": "lUUxN9Nt1vUj",
        "outputId": "01d08a79-6c8f-4a44-d965-b86cd1c9cb3e"
      },
      "outputs": [
        {
          "name": "stdout",
          "output_type": "stream",
          "text": [
            "1 Symbiosis Institute of Technology, Nagpur\n",
            "2 Symbiosis Institute of Technology, Nagpur\n",
            "3 Symbiosis Institute of Technology, Nagpur\n",
            "4 Symbiosis Institute of Technology, Nagpur\n",
            "5 Symbiosis Institute of Technology, Nagpur\n",
            "6 Symbiosis Institute of Technology, Nagpur\n",
            "7 Symbiosis Institute of Technology, Nagpur\n",
            "8 Symbiosis Institute of Technology, Nagpur\n",
            "9 Symbiosis Institute of Technology, Nagpur\n",
            "10 Symbiosis Institute of Technology, Nagpur\n"
          ]
        }
      ],
      "source": [
        "for i in range(10):\n",
        "  print(i+1, \"Symbiosis Institute of Technology, Nagpur\")"
      ]
    },
    {
      "cell_type": "code",
      "execution_count": null,
      "metadata": {
        "colab": {
          "base_uri": "https://localhost:8080/"
        },
        "id": "nSfJ0G2H3MV5",
        "outputId": "0cda9cff-e021-422d-ff59-e6ff44c34b7c"
      },
      "outputs": [
        {
          "name": "stdout",
          "output_type": "stream",
          "text": [
            "Sagar : 5\n",
            "Amol : 4\n",
            "Roshan : 6\n",
            "Akshay : 6\n",
            "Sachin : 6\n"
          ]
        }
      ],
      "source": [
        "Friends = ['Sagar', 'Amol', 'Roshan', 'Akshay', 'Sachin']\n",
        "for frnd in Friends:\n",
        "  print(frnd,\":\", len(frnd))"
      ]
    },
    {
      "cell_type": "code",
      "execution_count": null,
      "metadata": {
        "colab": {
          "base_uri": "https://localhost:8080/"
        },
        "id": "tkTJpFwDiCup",
        "outputId": "c21a3737-2228-48d9-d141-26131d0206f8"
      },
      "outputs": [
        {
          "name": "stdout",
          "output_type": "stream",
          "text": [
            "The length of sagar is 5\n",
            "The length of amit is 4\n",
            "The length of amol is 4\n",
            "The length of kamlesh is 7\n",
            "The length of kapil is 5\n"
          ]
        }
      ],
      "source": [
        "##for using list\n",
        "Friends = ['sagar', 'amit', 'amol', 'kamlesh', 'kapil']\n",
        "for friend in Friends:\n",
        "  print(f\"The length of {friend} is {len(friend)}\" )"
      ]
    },
    {
      "cell_type": "code",
      "execution_count": null,
      "metadata": {
        "colab": {
          "base_uri": "https://localhost:8080/"
        },
        "id": "JNHL8uRKiidN",
        "outputId": "f378d74f-2a9a-41a6-b3cd-9572a98df91d"
      },
      "outputs": [
        {
          "name": "stdout",
          "output_type": "stream",
          "text": [
            "Bad Bear\n",
            "Hello, Brown bear!\n",
            "Hello, Polar bear!\n"
          ]
        }
      ],
      "source": [
        "##for using dictionary\n",
        "bears = {\"Grizzly\":\"angry\", \"Brown\":\"friendly\", \"Polar\":\"friendly\"}\n",
        "for bear in bears:\n",
        "    if bears[bear]==\"friendly\":\n",
        "        print(\"Hello, \"+bear+\" bear!\")\n",
        "    else:\n",
        "      print(\"Bad Bear\")"
      ]
    },
    {
      "cell_type": "code",
      "execution_count": null,
      "metadata": {
        "colab": {
          "base_uri": "https://localhost:8080/"
        },
        "id": "CA6Tf68DWwDR",
        "outputId": "c09270b1-56da-4f3e-f127-d423e12c954e"
      },
      "outputs": [
        {
          "name": "stdout",
          "output_type": "stream",
          "text": [
            "enter your range:100\n",
            "1 prime number\n",
            "2 prime number\n",
            "3 prime number\n",
            "5 prime number\n",
            "7 prime number\n",
            "11 prime number\n",
            "13 prime number\n",
            "17 prime number\n",
            "19 prime number\n",
            "23 prime number\n",
            "29 prime number\n",
            "31 prime number\n",
            "37 prime number\n",
            "41 prime number\n",
            "43 prime number\n",
            "47 prime number\n",
            "53 prime number\n",
            "59 prime number\n",
            "61 prime number\n",
            "67 prime number\n",
            "71 prime number\n",
            "73 prime number\n",
            "79 prime number\n",
            "83 prime number\n",
            "89 prime number\n",
            "97 prime number\n",
            "none prime number = 76\n"
          ]
        }
      ],
      "source": [
        "num = int(input(\"enter your range:\"))\n",
        "a = 1\n",
        "for i in range(num+1):\n",
        "  if i == 2:\n",
        "    print(i,\"prime number\")\n",
        "  elif i == 1:\n",
        "    print(i,\"prime number\")\n",
        "  elif i == 3:\n",
        "    print(i,\"prime number\")\n",
        "  elif i == 5:\n",
        "    print(i,\"prime number\")    \n",
        "  elif i == 7:\n",
        "    print(i,\"prime number\")\n",
        "  else:\n",
        "    if i%2 == 0:\n",
        "      a +=1\n",
        "    elif i %3==0:\n",
        "      a +=1\n",
        "    elif i%5 == 0:\n",
        "      a +=1\n",
        "    elif i%7 ==0:\n",
        "      a +=1\n",
        "    else:\n",
        "        print(i,\"prime number\") \n",
        "print(\"none prime number =\",a)"
      ]
    },
    {
      "cell_type": "code",
      "execution_count": null,
      "metadata": {
        "id": "hm5Ml7GLZHVU"
      },
      "outputs": [],
      "source": [
        "a = int(input(\"Enter Start: \"))\n",
        "b = int(input(\"Enter End: \"))\n",
        "for i in range(a, b+1):\n",
        "  for j in range(2,i//2+1):\n",
        "    if i%j==0:\n",
        "      break\n",
        "  else:\n",
        "    print(i)"
      ]
    },
    {
      "cell_type": "code",
      "execution_count": null,
      "metadata": {
        "colab": {
          "base_uri": "https://localhost:8080/"
        },
        "id": "ifv-2bvOx3IC",
        "outputId": "5a33b2a9-df32-49c6-f97a-1e19a2f607ce"
      },
      "outputs": [
        {
          "name": "stdout",
          "output_type": "stream",
          "text": [
            "Enter positive integer: 18\n",
            "18 is not prime\n"
          ]
        }
      ],
      "source": [
        "#Loops with an else statement\n",
        "#it is executed when the loop terminates through exhaustion of the\n",
        "#iterable (with for) or\n",
        "#when the condition becomes false (with while), but not when the \n",
        "#loop is terminated by a break statement.\n",
        "num=int(input('Enter positive integer: '))\n",
        "for i in range(2,num):\n",
        "    if num%i == 0:\n",
        "        print(\"{} is not prime\".format(num)) \n",
        "        break\n",
        "else:\n",
        "    print(\"{} is prime\".format(num))"
      ]
    },
    {
      "cell_type": "code",
      "execution_count": null,
      "metadata": {
        "id": "fneynHMdyW3j"
      },
      "outputs": [],
      "source": [
        "rows = 5\n",
        "for i in range(0, rows):\n",
        "    for j in range(0, i + 1):\n",
        "        print(\"*\", end=' ')\n",
        "    print(\"\\r\") # \\r is a carriage return r will just work as you have\n",
        "              #shifted your cursor to the beginning of the string or line\n"
      ]
    },
    {
      "cell_type": "code",
      "execution_count": null,
      "metadata": {
        "colab": {
          "base_uri": "https://localhost:8080/"
        },
        "id": "DpxnnHEmPFMC",
        "outputId": "97de0cfb-f000-44f2-9802-ee5efdee300f"
      },
      "outputs": [
        {
          "name": "stdout",
          "output_type": "stream",
          "text": [
            "# \r\n",
            "# # \r\n",
            "# # # \r\n",
            "# # # # \r\n",
            "# # # # # \r\n"
          ]
        }
      ],
      "source": [
        "lines = 5\n",
        "for i in range(0, lines):\n",
        "    for j in range(0, i + 1):\n",
        "        print(\"#\", end=' ')\n",
        "    print(\"\\r\") \n"
      ]
    },
    {
      "cell_type": "code",
      "execution_count": null,
      "metadata": {
        "id": "uaa1GoSSz0U1"
      },
      "outputs": [],
      "source": [
        "for i in range(rows+1, 0, -1):\n",
        "    for j in range(0, i - 1):\n",
        "        print(\"*\", end=' ')\n",
        "    print(\"\\r\")"
      ]
    },
    {
      "cell_type": "code",
      "execution_count": null,
      "metadata": {
        "colab": {
          "base_uri": "https://localhost:8080/"
        },
        "id": "RP6h6_0hjq4h",
        "outputId": "d5ee2b99-2764-42f0-9af0-89915ce6e7e1"
      },
      "outputs": [
        {
          "name": "stdout",
          "output_type": "stream",
          "text": [
            "Enter a Number: 5454\n",
            "The sum of digits of 5454 is 18\n"
          ]
        }
      ],
      "source": [
        "##while\n",
        "num = int(input(\"Enter a Number: \"))\n",
        "num1, sum = num, 0\n",
        "while(num1!=0):\n",
        "  sum += num1%10\n",
        "  num1 //= 10\n",
        "print(f\"The sum of digits of {num} is {sum}\")"
      ]
    },
    {
      "cell_type": "code",
      "execution_count": null,
      "metadata": {
        "colab": {
          "base_uri": "https://localhost:8080/"
        },
        "id": "6W6_yQ1-x6wO",
        "outputId": "3b2159dc-eca2-4576-a2f7-0aa71753f281"
      },
      "outputs": [
        {
          "name": "stdout",
          "output_type": "stream",
          "text": [
            "123\n",
            "Not an armstrong number\n"
          ]
        }
      ],
      "source": [
        "n=int(input())\n",
        "num8, z = n, 0\n",
        "while (n):\n",
        "  n=n//10\n",
        "  z+=1\n",
        "sum1, k = 0, num8\n",
        "while (num8):\n",
        "  sum1+=(num8%10)**z\n",
        "  num8=num8//10\n",
        "print(\"It is an armstrong number\") if sum1==k else print(\"Not an armstrong number\")"
      ]
    },
    {
      "cell_type": "code",
      "execution_count": null,
      "metadata": {
        "colab": {
          "base_uri": "https://localhost:8080/"
        },
        "id": "PnC9SEkrRy28",
        "outputId": "80357065-4763-40b9-f732-08d60cec6b5f"
      },
      "outputs": [
        {
          "name": "stdout",
          "output_type": "stream",
          "text": [
            "9\n"
          ]
        }
      ],
      "source": [
        "num = 153\n",
        "num1, sum = num, 0\n",
        "while(num1!=0):\n",
        "  sum += num1%10\n",
        "  num1 //= 10\n",
        "print(f\"{sum}\")"
      ]
    },
    {
      "cell_type": "code",
      "execution_count": null,
      "metadata": {
        "colab": {
          "base_uri": "https://localhost:8080/",
          "height": 456
        },
        "id": "taX3zQVctr85",
        "outputId": "d1683974-5f78-450a-c3e3-7f2308e2b840"
      },
      "outputs": [
        {
          "name": "stdout",
          "output_type": "stream",
          "text": [
            "5\n",
            "Enter a Number: 234\n",
            "234 is not an Armstrong Number\n"
          ]
        },
        {
          "ename": "KeyboardInterrupt",
          "evalue": "ignored",
          "output_type": "error",
          "traceback": [
            "\u001b[0;31m---------------------------------------------------------------------------\u001b[0m",
            "\u001b[0;31mKeyboardInterrupt\u001b[0m                         Traceback (most recent call last)",
            "\u001b[0;32m<ipython-input-16-66eb6969f9d1>\u001b[0m in \u001b[0;36m<module>\u001b[0;34m\u001b[0m\n\u001b[1;32m      2\u001b[0m \u001b[0mt\u001b[0m\u001b[0;34m=\u001b[0m\u001b[0mint\u001b[0m\u001b[0;34m(\u001b[0m\u001b[0minput\u001b[0m\u001b[0;34m(\u001b[0m\u001b[0;34m)\u001b[0m\u001b[0;34m)\u001b[0m\u001b[0;34m\u001b[0m\u001b[0;34m\u001b[0m\u001b[0m\n\u001b[1;32m      3\u001b[0m \u001b[0;32mfor\u001b[0m \u001b[0mi\u001b[0m \u001b[0;32min\u001b[0m \u001b[0mrange\u001b[0m\u001b[0;34m(\u001b[0m\u001b[0mt\u001b[0m\u001b[0;34m)\u001b[0m\u001b[0;34m:\u001b[0m\u001b[0;34m\u001b[0m\u001b[0;34m\u001b[0m\u001b[0m\n\u001b[0;32m----> 4\u001b[0;31m   \u001b[0mnum\u001b[0m\u001b[0;34m=\u001b[0m\u001b[0mint\u001b[0m\u001b[0;34m(\u001b[0m\u001b[0minput\u001b[0m\u001b[0;34m(\u001b[0m\u001b[0;34m\"Enter a Number: \"\u001b[0m\u001b[0;34m)\u001b[0m\u001b[0;34m)\u001b[0m\u001b[0;34m\u001b[0m\u001b[0;34m\u001b[0m\u001b[0m\n\u001b[0m\u001b[1;32m      5\u001b[0m   \u001b[0mnum1\u001b[0m\u001b[0;34m,\u001b[0m \u001b[0msum\u001b[0m \u001b[0;34m=\u001b[0m \u001b[0mnum\u001b[0m\u001b[0;34m,\u001b[0m \u001b[0;36m0\u001b[0m\u001b[0;34m\u001b[0m\u001b[0;34m\u001b[0m\u001b[0m\n\u001b[1;32m      6\u001b[0m   \u001b[0mcount\u001b[0m \u001b[0;34m=\u001b[0m \u001b[0;36m0\u001b[0m\u001b[0;34m\u001b[0m\u001b[0;34m\u001b[0m\u001b[0m\n",
            "\u001b[0;32m/usr/local/lib/python3.7/dist-packages/ipykernel/kernelbase.py\u001b[0m in \u001b[0;36mraw_input\u001b[0;34m(self, prompt)\u001b[0m\n\u001b[1;32m    861\u001b[0m             \u001b[0mself\u001b[0m\u001b[0;34m.\u001b[0m\u001b[0m_parent_ident\u001b[0m\u001b[0;34m,\u001b[0m\u001b[0;34m\u001b[0m\u001b[0;34m\u001b[0m\u001b[0m\n\u001b[1;32m    862\u001b[0m             \u001b[0mself\u001b[0m\u001b[0;34m.\u001b[0m\u001b[0m_parent_header\u001b[0m\u001b[0;34m,\u001b[0m\u001b[0;34m\u001b[0m\u001b[0;34m\u001b[0m\u001b[0m\n\u001b[0;32m--> 863\u001b[0;31m             \u001b[0mpassword\u001b[0m\u001b[0;34m=\u001b[0m\u001b[0;32mFalse\u001b[0m\u001b[0;34m,\u001b[0m\u001b[0;34m\u001b[0m\u001b[0;34m\u001b[0m\u001b[0m\n\u001b[0m\u001b[1;32m    864\u001b[0m         )\n\u001b[1;32m    865\u001b[0m \u001b[0;34m\u001b[0m\u001b[0m\n",
            "\u001b[0;32m/usr/local/lib/python3.7/dist-packages/ipykernel/kernelbase.py\u001b[0m in \u001b[0;36m_input_request\u001b[0;34m(self, prompt, ident, parent, password)\u001b[0m\n\u001b[1;32m    902\u001b[0m             \u001b[0;32mexcept\u001b[0m \u001b[0mKeyboardInterrupt\u001b[0m\u001b[0;34m:\u001b[0m\u001b[0;34m\u001b[0m\u001b[0;34m\u001b[0m\u001b[0m\n\u001b[1;32m    903\u001b[0m                 \u001b[0;31m# re-raise KeyboardInterrupt, to truncate traceback\u001b[0m\u001b[0;34m\u001b[0m\u001b[0;34m\u001b[0m\u001b[0;34m\u001b[0m\u001b[0m\n\u001b[0;32m--> 904\u001b[0;31m                 \u001b[0;32mraise\u001b[0m \u001b[0mKeyboardInterrupt\u001b[0m\u001b[0;34m(\u001b[0m\u001b[0;34m\"Interrupted by user\"\u001b[0m\u001b[0;34m)\u001b[0m \u001b[0;32mfrom\u001b[0m \u001b[0;32mNone\u001b[0m\u001b[0;34m\u001b[0m\u001b[0;34m\u001b[0m\u001b[0m\n\u001b[0m\u001b[1;32m    905\u001b[0m             \u001b[0;32mexcept\u001b[0m \u001b[0mException\u001b[0m \u001b[0;32mas\u001b[0m \u001b[0me\u001b[0m\u001b[0;34m:\u001b[0m\u001b[0;34m\u001b[0m\u001b[0;34m\u001b[0m\u001b[0m\n\u001b[1;32m    906\u001b[0m                 \u001b[0mself\u001b[0m\u001b[0;34m.\u001b[0m\u001b[0mlog\u001b[0m\u001b[0;34m.\u001b[0m\u001b[0mwarning\u001b[0m\u001b[0;34m(\u001b[0m\u001b[0;34m\"Invalid Message:\"\u001b[0m\u001b[0;34m,\u001b[0m \u001b[0mexc_info\u001b[0m\u001b[0;34m=\u001b[0m\u001b[0;32mTrue\u001b[0m\u001b[0;34m)\u001b[0m\u001b[0;34m\u001b[0m\u001b[0;34m\u001b[0m\u001b[0m\n",
            "\u001b[0;31mKeyboardInterrupt\u001b[0m: Interrupted by user"
          ]
        }
      ],
      "source": [
        "#Armstrong in n digit\n",
        "t=int(input())\n",
        "for i in range(t):\n",
        "  num=int(input(\"Enter a Number: \"))\n",
        "  num1, sum = num, 0\n",
        "  count = 0\n",
        "  while(num1!=0):\n",
        "    count+=1\n",
        "    num1//=10\n",
        "  num1 = num\n",
        "  while(num1 != 0):\n",
        "    sum += pow(num1%10, count)\n",
        "    num1 //= 10\n",
        "  if sum == num:\n",
        "    print(f\"{num} is an Armstrong Number\")\n",
        "  else:\n",
        "    print(f\"{num} is not an Armstrong Number\")"
      ]
    },
    {
      "cell_type": "code",
      "execution_count": null,
      "metadata": {
        "colab": {
          "base_uri": "https://localhost:8080/"
        },
        "id": "oFABWEAr55vu",
        "outputId": "a9dd0048-238b-4c88-f3ee-ab52d758c45d"
      },
      "outputs": [
        {
          "name": "stdout",
          "output_type": "stream",
          "text": [
            "1 Before\n",
            "2 Before\n",
            "3 Before\n",
            "4 Before\n",
            "4 After Loop\n"
          ]
        }
      ],
      "source": [
        "for i in range(1, 5):\n",
        "  print(i, \"Before\")\n",
        "  #break\n",
        "  continue\n",
        "  pass\n",
        "  print(i, \"After\")\n",
        "print(i, \"After Loop\")"
      ]
    },
    {
      "cell_type": "code",
      "execution_count": null,
      "metadata": {
        "colab": {
          "base_uri": "https://localhost:8080/"
        },
        "id": "voA2q8BQhSuV",
        "outputId": "ff4996af-47e6-4084-cbde-b732b75b008e"
      },
      "outputs": [
        {
          "name": "stdout",
          "output_type": "stream",
          "text": [
            "4 OUT\n"
          ]
        }
      ],
      "source": [
        "for i in range(1, 5):\n",
        "  continue\n",
        "  print(i, \"IN\")\n",
        "print(i, \"OUT\")"
      ]
    },
    {
      "cell_type": "code",
      "execution_count": null,
      "metadata": {
        "colab": {
          "base_uri": "https://localhost:8080/"
        },
        "id": "h1wuUhWLk138",
        "outputId": "69740636-dd00-4c2f-f69c-7e9a6212356d"
      },
      "outputs": [
        {
          "name": "stdout",
          "output_type": "stream",
          "text": [
            "Break Executed for Loop Terminated\n",
            "Continue Executed goto next iteration of for\n",
            "Continue Executed goto next iteration of for\n",
            "Passing Here\n",
            "Pass Executed Continue for loop without change\n",
            "Continue Not Executed\n",
            "Continue Executed goto next iteration of for\n",
            "Break Executed for Loop Terminated\n",
            "Continue Executed goto next iteration of for\n",
            "Passing Here\n",
            "Pass Executed Continue for loop without change\n",
            "Continue Not Executed\n",
            "Continue Executed goto next iteration of for\n",
            "Break Executed for Loop Terminated\n"
          ]
        }
      ],
      "source": [
        "n = 3\n",
        "while n > 0:\n",
        "  for x in range(3,10):\n",
        "    if x%5 == n:\n",
        "      print(\"Break Executed for Loop Terminated\")\n",
        "      break\n",
        "    elif x%3 == n:\n",
        "      print(\"Passing Here\")\n",
        "      pass\n",
        "      print(\"Pass Executed Continue for loop without change\")\n",
        "    else:\n",
        "      print(\"Continue Executed goto next iteration of for\")\n",
        "      continue\n",
        "    print(\"Continue Not Executed\")\n",
        "  n -= 1"
      ]
    },
    {
      "cell_type": "code",
      "execution_count": null,
      "metadata": {
        "colab": {
          "base_uri": "https://localhost:8080/"
        },
        "id": "9LDlTUwumiiA",
        "outputId": "88acce32-1223-45ac-b827-e7d8b2d6ad36"
      },
      "outputs": [
        {
          "name": "stdout",
          "output_type": "stream",
          "text": [
            "Enter 2 Number: 56 32\n",
            "GCD is:  8\n"
          ]
        }
      ],
      "source": [
        "#GCD of two numbers\n",
        "x, y = input(\"Enter 2 Number: \").split()\n",
        "x = int(x); y = int(y)\n",
        "\n",
        "#x, y = [int(a) for a in input().split()]\n",
        "\n",
        "#x, y = map(int, input().split())\n",
        "\n",
        "if (y > x):\n",
        "  x, y = y, x\n",
        "while(y>0):\n",
        "  x, y = y, x % y # 50, 40 --> 40, 10 --> 10, 0\n",
        "print('GCD is: ', x)"
      ]
    },
    {
      "cell_type": "code",
      "execution_count": null,
      "metadata": {
        "colab": {
          "base_uri": "https://localhost:8080/"
        },
        "id": "U_IqCezGrL_w",
        "outputId": "f8101cb6-ef35-42ce-e6f4-8f6a2a7f989e"
      },
      "outputs": [
        {
          "name": "stdout",
          "output_type": "stream",
          "text": [
            "12 55 45 78\n"
          ]
        },
        {
          "data": {
            "text/plain": [
              "[12, 55, 45, 78]"
            ]
          },
          "execution_count": 3,
          "metadata": {},
          "output_type": "execute_result"
        }
      ],
      "source": [
        "e = [int(a) for a in input().split()]\n",
        "e"
      ]
    },
    {
      "cell_type": "markdown",
      "metadata": {
        "id": "Xu9s5Cc-4-BL"
      },
      "source": [
        "##**match Statement**\n",
        "##“Switch Case in Python” called “Python Structure Pattern Matching”\n",
        "**match subject:** \\\\\n",
        "> **case \\<pattern_1>:** \\\\\n",
        "> > **\\<action_1>** \\\\\n",
        "\n",
        "> **case \\<pattern_2>:** \\\\\n",
        "> > **\\<action_2>** \\\\\n",
        "\n",
        "> **case \\<pattern_3>:** \\\\\n",
        "> > **\\<action_3>** \\\\\n",
        "\n",
        "> **case _:** \\\\\n",
        "> > **\\<action_wildcard>** \\\\"
      ]
    },
    {
      "cell_type": "code",
      "execution_count": null,
      "metadata": {
        "colab": {
          "base_uri": "https://localhost:8080/"
        },
        "id": "Y5dfDR5vKglG",
        "outputId": "7b571732-f573-437f-bb0c-c11b8e35c3f5"
      },
      "outputs": [
        {
          "name": "stdout",
          "output_type": "stream",
          "text": [
            "Reading package lists... Done\n",
            "Building dependency tree       \n",
            "Reading state information... Done\n",
            "The following package was automatically installed and is no longer required:\n",
            "  libnvidia-common-460\n",
            "Use 'sudo apt autoremove' to remove it.\n",
            "The following additional packages will be installed:\n",
            "  libpython3.10-minimal libpython3.10-stdlib python3.10-minimal\n",
            "Suggested packages:\n",
            "  python3.10-venv binfmt-support\n",
            "The following NEW packages will be installed:\n",
            "  libpython3.10-minimal libpython3.10-stdlib python3.10 python3.10-minimal\n",
            "0 upgraded, 4 newly installed, 0 to remove and 5 not upgraded.\n",
            "Need to get 5,098 kB of archives.\n",
            "After this operation, 19.5 MB of additional disk space will be used.\n",
            "Get:1 http://ppa.launchpad.net/deadsnakes/ppa/ubuntu bionic/main amd64 libpython3.10-minimal amd64 3.10.8-1+bionic1 [823 kB]\n",
            "Get:2 http://ppa.launchpad.net/deadsnakes/ppa/ubuntu bionic/main amd64 python3.10-minimal amd64 3.10.8-1+bionic1 [1,970 kB]\n",
            "Get:3 http://ppa.launchpad.net/deadsnakes/ppa/ubuntu bionic/main amd64 libpython3.10-stdlib amd64 3.10.8-1+bionic1 [1,759 kB]\n",
            "Get:4 http://ppa.launchpad.net/deadsnakes/ppa/ubuntu bionic/main amd64 python3.10 amd64 3.10.8-1+bionic1 [545 kB]\n",
            "Fetched 5,098 kB in 0s (13.4 MB/s)\n",
            "debconf: unable to initialize frontend: Dialog\n",
            "debconf: (No usable dialog-like program is installed, so the dialog based frontend cannot be used. at /usr/share/perl5/Debconf/FrontEnd/Dialog.pm line 76, <> line 4.)\n",
            "debconf: falling back to frontend: Readline\n",
            "debconf: unable to initialize frontend: Readline\n",
            "debconf: (This frontend requires a controlling tty.)\n",
            "debconf: falling back to frontend: Teletype\n",
            "dpkg-preconfigure: unable to re-open stdin: \n",
            "Selecting previously unselected package libpython3.10-minimal:amd64.\n",
            "(Reading database ... 123991 files and directories currently installed.)\n",
            "Preparing to unpack .../libpython3.10-minimal_3.10.8-1+bionic1_amd64.deb ...\n",
            "Unpacking libpython3.10-minimal:amd64 (3.10.8-1+bionic1) ...\n",
            "Selecting previously unselected package python3.10-minimal.\n",
            "Preparing to unpack .../python3.10-minimal_3.10.8-1+bionic1_amd64.deb ...\n",
            "Unpacking python3.10-minimal (3.10.8-1+bionic1) ...\n",
            "Selecting previously unselected package libpython3.10-stdlib:amd64.\n",
            "Preparing to unpack .../libpython3.10-stdlib_3.10.8-1+bionic1_amd64.deb ...\n",
            "Unpacking libpython3.10-stdlib:amd64 (3.10.8-1+bionic1) ...\n",
            "Selecting previously unselected package python3.10.\n",
            "Preparing to unpack .../python3.10_3.10.8-1+bionic1_amd64.deb ...\n",
            "Unpacking python3.10 (3.10.8-1+bionic1) ...\n",
            "Setting up libpython3.10-minimal:amd64 (3.10.8-1+bionic1) ...\n",
            "Setting up libpython3.10-stdlib:amd64 (3.10.8-1+bionic1) ...\n",
            "Setting up python3.10-minimal (3.10.8-1+bionic1) ...\n",
            "Setting up python3.10 (3.10.8-1+bionic1) ...\n",
            "Processing triggers for man-db (2.8.3-2ubuntu0.1) ...\n",
            "Processing triggers for mime-support (3.60ubuntu1) ...\n",
            "update-alternatives: using /usr/bin/python3.10 to provide /usr/bin/python3 (python3) in manual mode\n"
          ]
        }
      ],
      "source": [
        "!sudo apt-get install python3.10\n",
        "!sudo update-alternatives --install /usr/bin/python3 python3 /usr/bin/python3.10 1\n",
        "!sudo update-alternatives --set python3 /usr/bin/python3.10"
      ]
    },
    {
      "cell_type": "code",
      "execution_count": null,
      "metadata": {
        "colab": {
          "base_uri": "https://localhost:8080/",
          "height": 130
        },
        "id": "KJw38fx5_InP",
        "outputId": "874864e6-ed12-4635-c8da-e0babd4ba3b3"
      },
      "outputs": [
        {
          "ename": "SyntaxError",
          "evalue": "ignored",
          "output_type": "error",
          "traceback": [
            "\u001b[0;36m  File \u001b[0;32m\"<ipython-input-1-9cc43a787588>\"\u001b[0;36m, line \u001b[0;32m3\u001b[0m\n\u001b[0;31m    match col:\u001b[0m\n\u001b[0m            ^\u001b[0m\n\u001b[0;31mSyntaxError\u001b[0m\u001b[0;31m:\u001b[0m invalid syntax\n"
          ]
        }
      ],
      "source": [
        "col=input('enter color(r/g/b):')\n",
        "print('Color is:', end=\"\")\n",
        "match col:\n",
        "case 'r':\n",
        "print('RED')\n",
        "case 'g':\n",
        "print('Green')\n",
        "case 'b':\n",
        "print('Blue')\n",
        "case _:\n",
        "print('invalid input')"
      ]
    },
    {
      "cell_type": "code",
      "execution_count": null,
      "metadata": {
        "colab": {
          "base_uri": "https://localhost:8080/"
        },
        "id": "7nXhTnoJKRBj",
        "outputId": "7d1759a9-c31a-414a-afa1-112ca407a88e"
      },
      "outputs": [
        {
          "name": "stdout",
          "output_type": "stream",
          "text": [
            "Python 3.7.15\n"
          ]
        }
      ],
      "source": [
        "!python --version"
      ]
    },
    {
      "cell_type": "markdown",
      "metadata": {
        "id": "R7AhmyyoJbln"
      },
      "source": [
        "conda update python\n",
        "\n",
        "conda install python=3.10\n",
        "\n"
      ]
    },
    {
      "cell_type": "code",
      "execution_count": null,
      "metadata": {
        "id": "G6oSGPkT4F_Z"
      },
      "outputs": [],
      "source": [
        "http_code = \"418\"\n",
        "if http_code == \"418\":\n",
        "    print(\"OK\")\n",
        "    do_something_good()\n",
        "elif http_code == \"404\":\n",
        "    print(\"Not Found\")\n",
        "    do_something_bad()\n",
        "elif http_code == \"418\":\n",
        "    print(\"I'm a teapot\")\n",
        "    make_coffee()\n",
        "else:\n",
        "    print(\"Code not found\")"
      ]
    },
    {
      "cell_type": "markdown",
      "metadata": {
        "id": "pNgQdjiEtsnt"
      },
      "source": [
        "\n",
        "1. Write a program to Count the total number of digits in given integer number\n",
        "2. Write a program to find first and last digit of a given integer number.\n",
        "3. Write a program to swap first and last digits of a given integer number.\n",
        "4. Generate a mirror image of a given integer number (or Reverse a given integer number)\n",
        "5. Check whether a given integer number is palindrome or not\n",
        "6. Write a program to convert a decimal number into binary\n",
        "7. Write a program to convert a binary number into decimal number \n",
        "8. Write a program to convert a decimal number to hexadecimal.\n",
        "Write a program to convert a decimal number to octal.\n",
        "9. Write a program to find LCM (least common multiplier) of any two numbers\n",
        "1.\tWrite a program to print multiplication table of a given number\n",
        "2.\tWrite a program to print multiplication table for numbers given in a range\n",
        "3.\tWrite a program to display all prime numbers within a range\n",
        "4.\tWrite a program to calculate the sum of series up to n term. For example, if n =5 the series will become 2 + 22 + 222 + 2222 + 22222 = 24690"
      ]
    },
    {
      "cell_type": "code",
      "execution_count": null,
      "metadata": {
        "colab": {
          "base_uri": "https://localhost:8080/"
        },
        "id": "RpXAhUdG7vXj",
        "outputId": "05384e82-b2f6-4fa9-f926-6c1bc7600800"
      },
      "outputs": [
        {
          "name": "stdout",
          "output_type": "stream",
          "text": [
            "Enter a Name: Nitin\n",
            "nitin  is a Palindrome\n"
          ]
        }
      ],
      "source": [
        "a = input(\"Enter a Name: \").lower()\n",
        "b = int(len(a)/2)\n",
        "flag = 1\n",
        "for i in range(b+1):\n",
        "  if a[i]!=a[-(i+1)]:\n",
        "    flag = 0;\n",
        "    break   \n",
        "if(flag == 1):\n",
        "  print(\"{}  is a Palindrome\".format(a))\n",
        "else:\n",
        "  print(\"{} is Not a Palindrome\".format(a))"
      ]
    },
    {
      "cell_type": "code",
      "execution_count": null,
      "metadata": {
        "id": "wcXatF9U27T6"
      },
      "outputs": [],
      "source": [
        "def isPalindrome(s):\n",
        "    s = s.lower()\n",
        "    l = len(s)\n",
        "    if l < 2:\n",
        "      return True\n",
        "    elif s[0] == s[l - 1]:\n",
        "      return isPalindrome(s[1: l - 1])\n",
        "    else:\n",
        "      return False\n"
      ]
    },
    {
      "cell_type": "markdown",
      "metadata": {
        "id": "Rqz5LcVEdHFX"
      },
      "source": [
        "<a id='file'></a>\n",
        "## Files\n",
        "* file open, close, read, write\n",
        "* file_handle = open(“file_name”, ‘mode’)\n",
        "    * Modes: \n",
        "    * a: append\n",
        "    * r: read only (error if not existing)\n",
        "    * w: write only\n",
        "    * r+: read/write (error if not existing)\n",
        "    * w+: read/write\n",
        "    * b: binary\n",
        "* Python has a built-in garbage collector\n",
        "* Object memory space is auto reclaimed once a file is no longer in use \n",
        "    "
      ]
    },
    {
      "cell_type": "code",
      "execution_count": null,
      "metadata": {
        "id": "Vyss2yB8ptAk"
      },
      "outputs": [],
      "source": [
        "! if [ ! -f \"data.txt\" ]; then wget 'https://raw.githubusercontent.com/jyu31/Introduction-to-Python-Spring-2021/master/data.txt'; else echo 'file exists'; fi;"
      ]
    },
    {
      "cell_type": "code",
      "execution_count": null,
      "metadata": {
        "id": "gV_4i_lqdHFX"
      },
      "outputs": [],
      "source": [
        "input = open('data.txt', 'r')\n",
        "content = input.read()\n",
        "input.close()\n",
        "print(content)"
      ]
    },
    {
      "cell_type": "code",
      "execution_count": null,
      "metadata": {
        "id": "XhJGF4bRdHFZ"
      },
      "outputs": [],
      "source": [
        "#write to a file\n",
        "!ls -l\n",
        "output = open('write.txt','w')\n",
        "output.write(\"Writing to a file\")\n",
        "output.close()\n",
        "!ls -l\n",
        "!cat write.txt"
      ]
    },
    {
      "cell_type": "markdown",
      "metadata": {
        "id": "8sIJ4A57dHFk"
      },
      "source": [
        "<a id='module'> </a>\n",
        "## Functions\n",
        "def func_name(par1, par2,...): \n",
        "> body of code"
      ]
    },
    {
      "cell_type": "code",
      "execution_count": null,
      "metadata": {
        "colab": {
          "base_uri": "https://localhost:8080/"
        },
        "id": "B5Hf5RZLdHFk",
        "outputId": "ed305037-9423-46a8-e02f-e20aeedf91db"
      },
      "outputs": [
        {
          "name": "stdout",
          "output_type": "stream",
          "text": [
            "11\n"
          ]
        }
      ],
      "source": [
        "#addition\n",
        "def my_add(x, y):\n",
        "    return x+y\n",
        "\n",
        "sum=my_add(3, 8); print(sum)"
      ]
    },
    {
      "cell_type": "code",
      "execution_count": null,
      "metadata": {
        "colab": {
          "base_uri": "https://localhost:8080/"
        },
        "id": "5lyjqDO4dHFm",
        "outputId": "22325fc2-6c84-451c-b895-72f6e426b41f"
      },
      "outputs": [
        {
          "data": {
            "text/plain": [
              "(9, 27)"
            ]
          },
          "execution_count": 2,
          "metadata": {},
          "output_type": "execute_result"
        }
      ],
      "source": [
        "#return multiple values\n",
        "def power(input):\n",
        "    return input**2, input**3\n",
        "\n",
        "power(3)"
      ]
    },
    {
      "cell_type": "code",
      "execution_count": null,
      "metadata": {
        "colab": {
          "base_uri": "https://localhost:8080/"
        },
        "id": "wyQS_kgDSMeL",
        "outputId": "2ef42ee6-a72f-422c-dd54-13a4d9b697ca"
      },
      "outputs": [
        {
          "name": "stdout",
          "output_type": "stream",
          "text": [
            "Enter your marks65\n",
            "C\n"
          ]
        }
      ],
      "source": [
        "def grade(marks):\n",
        "  \"\"\"Compute Grade of Students\"\"\"\n",
        "  if marks > 90:\n",
        "    print(\"A\")\n",
        "  elif marks > 70:\n",
        "    print(\"B\")\n",
        "  elif marks > 50:\n",
        "    print(\"C\")\n",
        "  else:\n",
        "    print(\"D\")\n",
        "mark = int(input(\"Enter your marks\"))\n",
        "grade(mark)\n",
        "\n"
      ]
    },
    {
      "cell_type": "code",
      "execution_count": null,
      "metadata": {
        "colab": {
          "base_uri": "https://localhost:8080/"
        },
        "id": "ezhWmtBZSP1x",
        "outputId": "43a90982-087c-4d94-d76e-fd57c6bfe09c"
      },
      "outputs": [
        {
          "name": "stdout",
          "output_type": "stream",
          "text": [
            "B\n"
          ]
        }
      ],
      "source": [
        "def grade(marks):\n",
        "  \"\"\"Compute Grade of Students\"\"\"\n",
        "  if marks > 90:\n",
        "    print(\"A\")\n",
        "  elif marks > 70:\n",
        "    print(\"B\")\n",
        "  elif marks > 50:\n",
        "    print(\"C\")\n",
        "  else:\n",
        "    print(\"D\")\n",
        "grade(90)"
      ]
    },
    {
      "cell_type": "code",
      "execution_count": null,
      "metadata": {
        "id": "gz39WvlcvOof"
      },
      "outputs": [],
      "source": [
        "def SumofDigits(num):\n",
        "  sum=0;\n",
        "  while(num!=0):\n",
        "    sum = sum + num%10\n",
        "    num=num//10\n",
        "  return sum\n",
        "\n"
      ]
    },
    {
      "cell_type": "code",
      "execution_count": null,
      "metadata": {
        "colab": {
          "base_uri": "https://localhost:8080/"
        },
        "id": "1A24nRbIwGVn",
        "outputId": "f3403ba5-edb4-416f-ee93-f84cf71495c2"
      },
      "outputs": [
        {
          "data": {
            "text/plain": [
              "10"
            ]
          },
          "execution_count": 11,
          "metadata": {},
          "output_type": "execute_result"
        }
      ],
      "source": [
        "SumofDigits(1009)"
      ]
    },
    {
      "cell_type": "code",
      "execution_count": null,
      "metadata": {
        "colab": {
          "base_uri": "https://localhost:8080/"
        },
        "id": "tWRPBfYHlHNk",
        "outputId": "3df8210f-d7a4-4daf-d64f-2fff5d54e916"
      },
      "outputs": [
        {
          "name": "stdout",
          "output_type": "stream",
          "text": [
            "Help on function grade in module __main__:\n",
            "\n",
            "grade(marks)\n",
            "    Compute Grade of Students\n",
            "\n"
          ]
        }
      ],
      "source": [
        "help(grade)"
      ]
    },
    {
      "cell_type": "code",
      "execution_count": null,
      "metadata": {
        "colab": {
          "base_uri": "https://localhost:8080/"
        },
        "id": "jXOIjkSaI1kR",
        "outputId": "b4a33bf5-5102-4a00-ee51-d5d13d820aa7"
      },
      "outputs": [
        {
          "name": "stdout",
          "output_type": "stream",
          "text": [
            "Help on built-in function print in module builtins:\n",
            "\n",
            "print(...)\n",
            "    print(value, ..., sep=' ', end='\\n', file=sys.stdout, flush=False)\n",
            "    \n",
            "    Prints the values to a stream, or to sys.stdout by default.\n",
            "    Optional keyword arguments:\n",
            "    file:  a file-like object (stream); defaults to the current sys.stdout.\n",
            "    sep:   string inserted between values, default a space.\n",
            "    end:   string appended after the last value, default a newline.\n",
            "    flush: whether to forcibly flush the stream.\n",
            "\n"
          ]
        }
      ],
      "source": [
        "help(print)\n"
      ]
    },
    {
      "cell_type": "code",
      "execution_count": null,
      "metadata": {
        "colab": {
          "base_uri": "https://localhost:8080/",
          "height": 35
        },
        "id": "DlSwe2l8GPr2",
        "outputId": "e76d879f-7b0d-4bf4-e321-f803ee442631"
      },
      "outputs": [
        {
          "data": {
            "application/vnd.google.colaboratory.intrinsic+json": {
              "type": "string"
            },
            "text/plain": [
              "'Compute Grade of Students'"
            ]
          },
          "execution_count": 15,
          "metadata": {},
          "output_type": "execute_result"
        }
      ],
      "source": [
        "grade.__doc__"
      ]
    },
    {
      "cell_type": "code",
      "execution_count": null,
      "metadata": {
        "id": "FchLeUTPo5K5"
      },
      "outputs": [],
      "source": [
        "?grade\n"
      ]
    },
    {
      "cell_type": "code",
      "execution_count": null,
      "metadata": {
        "colab": {
          "base_uri": "https://localhost:8080/"
        },
        "id": "T_v4O_Fi2AuG",
        "outputId": "8165204c-eece-4a5d-b182-45d91f7cba80"
      },
      "outputs": [
        {
          "name": "stdout",
          "output_type": "stream",
          "text": [
            "enter your range:45\n",
            "0\n",
            "1\n",
            "1\n",
            "2\n",
            "3\n",
            "5\n",
            "8\n",
            "13\n",
            "21\n",
            "34\n"
          ]
        }
      ],
      "source": [
        "def fibb(num):\n",
        "  sum =0\n",
        "  n1,n2=0,1\n",
        "  while num > sum:\n",
        "    print(sum)\n",
        "    n1 =n2\n",
        "    n2 = sum\n",
        "    sum =n1+n2\n",
        "if __name__==\"__main__\":\n",
        "  num=int(input(\"enter your range:\"))\n",
        "  fibb(num)    \n"
      ]
    },
    {
      "cell_type": "code",
      "execution_count": null,
      "metadata": {
        "colab": {
          "base_uri": "https://localhost:8080/"
        },
        "id": "uVmEiy7oOvsA",
        "outputId": "f5bde05d-78f8-420f-961b-312e4794fe92"
      },
      "outputs": [
        {
          "name": "stdout",
          "output_type": "stream",
          "text": [
            "SIT\n",
            "(10, 'SIT', 11.23)\n"
          ]
        }
      ],
      "source": [
        "def PRINTNAME():\n",
        "  print(\"SIT\")\n",
        "  return 10, \"SIT\", 11.23\n",
        "print(PRINTNAME())"
      ]
    },
    {
      "cell_type": "code",
      "execution_count": null,
      "metadata": {
        "colab": {
          "base_uri": "https://localhost:8080/"
        },
        "id": "hW6UpgjAfmMU",
        "outputId": "1ba33f4d-0446-4f01-f478-ab9a95408312"
      },
      "outputs": [
        {
          "name": "stdout",
          "output_type": "stream",
          "text": [
            "321\n"
          ]
        }
      ],
      "source": [
        "def rev(p):\n",
        "  x=0\n",
        "  while p!=0:\n",
        "    x=x*10+p%10\n",
        "    p=p//10\n",
        "  print(x)\n",
        "rev(123)"
      ]
    },
    {
      "cell_type": "code",
      "execution_count": null,
      "metadata": {
        "colab": {
          "base_uri": "https://localhost:8080/"
        },
        "id": "MgMLUVl5yM2O",
        "outputId": "7c304b11-a908-403d-a47b-caa462d3eacb"
      },
      "outputs": [
        {
          "name": "stdout",
          "output_type": "stream",
          "text": [
            "\n",
            "0 1 1 2 3 5 8 "
          ]
        }
      ],
      "source": [
        "def fibo(n):    # write Fibonacci series up to n\n",
        "  \"\"\"Print a Fibonacci series up to n.\"\"\"\n",
        "  a, b = 0, 1\n",
        "  while a < n:\n",
        "    print(a, end=' ')\n",
        "    a, b = b, a+b\n",
        "print()\n",
        "\n",
        "fibo(10)\n"
      ]
    },
    {
      "cell_type": "markdown",
      "metadata": {
        "id": "vj200vWHT0zm"
      },
      "source": [
        "**With return**"
      ]
    },
    {
      "cell_type": "code",
      "execution_count": null,
      "metadata": {
        "id": "QjUHuldsT5kk"
      },
      "outputs": [],
      "source": [
        "def grade(marks):\n",
        "  if marks > 90:\n",
        "    return(\"A\")\n",
        "  elif marks > 70:\n",
        "    return(\"B\")\n",
        "  elif marks > 50:\n",
        "    return(\"C\")\n",
        "  else:\n",
        "    return(\"D\")\n",
        "marks = int(input(\"Enter your marks : \"))\n",
        "print(f\"Your grade is : {grade(marks)}\")\n",
        "\n"
      ]
    },
    {
      "cell_type": "code",
      "execution_count": null,
      "metadata": {
        "colab": {
          "base_uri": "https://localhost:8080/"
        },
        "id": "yS4t7kt-tXh8",
        "outputId": "464d50eb-8b90-43ee-e09d-ca936e8b2fed"
      },
      "outputs": [
        {
          "name": "stdout",
          "output_type": "stream",
          "text": [
            "11126816\n"
          ]
        },
        {
          "data": {
            "text/plain": [
              "11126976"
            ]
          },
          "execution_count": 30,
          "metadata": {},
          "output_type": "execute_result"
        }
      ],
      "source": [
        "x = 5\n",
        "print(id(x))\n",
        "x = 10\n",
        "id(x)"
      ]
    },
    {
      "cell_type": "code",
      "execution_count": null,
      "metadata": {
        "colab": {
          "base_uri": "https://localhost:8080/"
        },
        "id": "l0E2CQczctCC",
        "outputId": "456fe6b5-2505-4fa4-9d48-9e52719a38cf"
      },
      "outputs": [
        {
          "name": "stdout",
          "output_type": "stream",
          "text": [
            "# # # # # \r\n",
            "# # # # \r\n",
            "# # # \r\n",
            "# # \r\n",
            "# \r\n"
          ]
        }
      ],
      "source": [
        "lines = 5\n",
        "for i in range(lines,0,-1):\n",
        "    for j in range(0, i ):\n",
        "        print(\"#\", end=' ')\n",
        "    print(\"\\r\")"
      ]
    },
    {
      "cell_type": "code",
      "execution_count": null,
      "metadata": {
        "colab": {
          "base_uri": "https://localhost:8080/"
        },
        "id": "Qavt44tXtbKj",
        "outputId": "ef2c7a0d-ef70-4939-918f-4b24f558d9e5"
      },
      "outputs": [
        {
          "data": {
            "text/plain": [
              "11126976"
            ]
          },
          "execution_count": 31,
          "metadata": {},
          "output_type": "execute_result"
        }
      ],
      "source": [
        "x = 10\n",
        "id(x)"
      ]
    },
    {
      "cell_type": "code",
      "execution_count": null,
      "metadata": {
        "colab": {
          "base_uri": "https://localhost:8080/"
        },
        "id": "Cca_LzA7tdgS",
        "outputId": "51f39f86-1087-4a9e-ade0-eb1305a9e13e"
      },
      "outputs": [
        {
          "name": "stdout",
          "output_type": "stream",
          "text": [
            "inside  function y is: 5 & id:11126816\n",
            "outside function x is: 5  & id:11126816\n"
          ]
        }
      ],
      "source": [
        "def f(x):\n",
        "    y = 5\n",
        "    print(f'inside  function y is: {y} & id:{id(y)}')\n",
        "\n",
        "x = 5\n",
        "f(x)\n",
        "print(f'outside function x is: {x}  & id:{id(x)}')\n"
      ]
    },
    {
      "cell_type": "code",
      "execution_count": null,
      "metadata": {
        "colab": {
          "base_uri": "https://localhost:8080/"
        },
        "id": "hgoiR4NCt_5q",
        "outputId": "eabd6e48-03a6-4394-c3eb-1e1bcf7970a3"
      },
      "outputs": [
        {
          "name": "stdout",
          "output_type": "stream",
          "text": [
            "Pre outside function city_list is: ['Nagpur', 'Pune', 'Mumbai', 'Nasik'] & id:140466810312656\n",
            "inside  function city_list is: ['Nagpur', 'Pune', 'Mumbai', 'Nasik'] & id:140466810447264\n",
            "outside function city_list is: ['Nagpur', 'Pune', 'Mumbai', 'Nasik'] & id:140466810312656\n"
          ]
        }
      ],
      "source": [
        "def f(x):\n",
        "    x= ['Nagpur', 'Pune', 'Mumbai', 'Nasik']\n",
        "\n",
        "    print(f'inside  function city_list is: {x} & id:{id(x)}')\n",
        "\n",
        "city_list = ['Nagpur', 'Pune', 'Mumbai', 'Nasik']\n",
        "print(f'Pre outside function city_list is: {city_list} & id:{id(city_list)}')\n",
        "f(city_list)\n",
        "print(f'outside function city_list is: {city_list} & id:{id(city_list)}')\n"
      ]
    },
    {
      "cell_type": "code",
      "execution_count": null,
      "metadata": {
        "colab": {
          "base_uri": "https://localhost:8080/"
        },
        "id": "MRp86bVg8ZkB",
        "outputId": "7ad3218d-47e6-4721-b0f6-be58b395b69e"
      },
      "outputs": [
        {
          "name": "stdout",
          "output_type": "stream",
          "text": [
            "inside  function city_list is: ['Nagpur', 'Pune', 'Mumbai', 'Nasik'] & id:140466811490704\n",
            "Pre outside function city_list is: ['Nagpur', 'Pune', 'Mumbai', 'Nasik'] & id:140466892309200\n"
          ]
        }
      ],
      "source": [
        "x= ['Nagpur', 'Pune', 'Mumbai', 'Nasik']\n",
        "print(f'inside  function city_list is: {x} & id:{id(x)}')\n",
        "city_list = ['Nagpur', 'Pune', 'Mumbai', 'Nasik']\n",
        "print(f'Pre outside function city_list is: {city_list} & id:{id(city_list)}')\n"
      ]
    },
    {
      "cell_type": "code",
      "execution_count": null,
      "metadata": {
        "colab": {
          "base_uri": "https://localhost:8080/"
        },
        "id": "fyk5zh1PVcEb",
        "outputId": "d40ad001-d76e-4cd1-f13a-0b69f5cd24a6"
      },
      "outputs": [
        {
          "name": "stdout",
          "output_type": "stream",
          "text": [
            "original list is: [10, 20, 30, 40]\n",
            "updated list is:[5, 10, 15, 20, 25, 30, 35, 40]\n",
            "outside function list is :[5, 10, 15, 20, 25, 30, 35, 40]\n"
          ]
        }
      ],
      "source": [
        "def f(x):\n",
        "  x.insert(0,5)\n",
        "  x.insert(2,15)\n",
        "  x.insert(4,25)\n",
        "  x.insert(6,35)\n",
        "  print(f'updated list is:{x}')\n",
        "\n",
        "num_list=[10,20,30,40]\n",
        "print(f'original list is: {num_list}')\n",
        "f(num_list)\n",
        "print(f'outside function list is :{num_list}')"
      ]
    },
    {
      "cell_type": "code",
      "execution_count": null,
      "metadata": {
        "colab": {
          "base_uri": "https://localhost:8080/"
        },
        "id": "5tTuUtiBysVA",
        "outputId": "6c46682a-cb32-4656-fd89-0568de746db9"
      },
      "outputs": [
        {
          "name": "stdout",
          "output_type": "stream",
          "text": [
            "original list is: [10, 20, 30, 40]\n",
            "Enter Element: 45\n",
            "Enter Position: 2\n",
            "Do you want to add more elements(Y/N): Y\n",
            "Enter Element: 65\n",
            "Enter Position: 4\n",
            "Do you want to add more elements(Y/N): n\n",
            "outside function list is :[10, 45, 20, 65, 30, 40]\n"
          ]
        }
      ],
      "source": [
        "def f(lst, i, ele):\n",
        "  lst.insert(i, ele)\n",
        "  #lst[i] = ele\n",
        "\n",
        "num_lst=[10,20,30,40]\n",
        "print(f'original list is: {num_lst}')\n",
        "ch = 'Y'\n",
        "while(ch == 'Y'):\n",
        "  #val, pos = [int(a) for a in input(\"Enter the Element and its position you want to insert: \").split()]\n",
        "  val = int(input(\"Enter Element: \"))\n",
        "  pos = int(input(\"Enter Position: \"))\n",
        "  f(num_lst, pos-1, val)\n",
        "  ch = input(\"Do you want to add more elements(Y/N): \")\n",
        "\n",
        "print(f'outside function list is :{num_lst}')"
      ]
    },
    {
      "cell_type": "code",
      "execution_count": null,
      "metadata": {
        "colab": {
          "base_uri": "https://localhost:8080/"
        },
        "id": "OZHLtCEKzDNQ",
        "outputId": "5460c499-10d1-40dc-db10-3926b22a562d"
      },
      "outputs": [
        {
          "name": "stdout",
          "output_type": "stream",
          "text": [
            "inside  function city_list is: --- & id: 140466811450672\n",
            "outside function city_list is: ['Nagpur', 'Pune', 'Mumbai', 'Nasik'] & id: 140466811120368\n"
          ]
        }
      ],
      "source": [
        "def f(x):\n",
        "    x = '---'\n",
        "    print(f'inside  function city_list is: {x} & id: {id(x)}')\n",
        "\n",
        "city_list = ['Nagpur', 'Pune', 'Mumbai', 'Nasik']\n",
        "f(city_list)\n",
        "print(f'outside function city_list is: {city_list} & id: {id(city_list)}')\n"
      ]
    },
    {
      "cell_type": "markdown",
      "metadata": {
        "id": "r6OiZLIKdM_7"
      },
      "source": [
        "**Checking None as False**"
      ]
    },
    {
      "cell_type": "code",
      "execution_count": null,
      "metadata": {
        "colab": {
          "base_uri": "https://localhost:8080/"
        },
        "id": "Y0GUrnoac1ea",
        "outputId": "16fe7ad2-4e32-4aa9-886e-e04b0bd257b5"
      },
      "outputs": [
        {
          "name": "stdout",
          "output_type": "stream",
          "text": [
            "0\n",
            "False\n"
          ]
        }
      ],
      "source": [
        "def f():\n",
        "  return 0\n",
        "\n",
        "print(f())\n",
        "print(\"True\") if f() else print(\"False\")"
      ]
    },
    {
      "cell_type": "code",
      "execution_count": null,
      "metadata": {
        "colab": {
          "base_uri": "https://localhost:8080/"
        },
        "id": "AJWUV_ydgvl5",
        "outputId": "283d2d28-37f3-4974-bcd1-5d8a2a83b5a9"
      },
      "outputs": [
        {
          "name": "stdout",
          "output_type": "stream",
          "text": [
            "The pow(4) is 16\n",
            "The pow(5,3) is 125\n",
            "The pow(5) is 25\n"
          ]
        }
      ],
      "source": [
        "def pow(x, y=2):\n",
        "  return x**y\n",
        "\n",
        "print (f\"The pow(4) is {pow(4)}\")\n",
        "print(f\"The pow(5,3) is {pow(5,3)}\")\n",
        "print (f\"The pow(5) is {pow(5)}\")"
      ]
    },
    {
      "cell_type": "code",
      "execution_count": null,
      "metadata": {
        "colab": {
          "base_uri": "https://localhost:8080/"
        },
        "id": "8WyRSiOLjKmY",
        "outputId": "a7cc27b8-278d-44cf-b1a1-6a45bd1a77f2"
      },
      "outputs": [
        {
          "name": "stdout",
          "output_type": "stream",
          "text": [
            "The pow(4) is 16\n"
          ]
        }
      ],
      "source": [
        "def pow(x, y=2):\n",
        "  return x**y\n",
        "print (f\"The pow(4) is {pow(4)}\")"
      ]
    },
    {
      "cell_type": "code",
      "execution_count": null,
      "metadata": {
        "id": "96qrOFiMABPQ"
      },
      "outputs": [],
      "source": [
        "def sup_pow(x, y=2, z=2):\n",
        "  return(x**y)**z\n",
        "print(f'Super pow (2,2,2) is {sup_pow(2)}')\n",
        "print(f'Super pow (2,3,2) is {sup_pow(2,3)}')\n",
        "print(f'Super pow(2,3,3) is {sup_pow(2,3,3)}')"
      ]
    },
    {
      "cell_type": "code",
      "execution_count": null,
      "metadata": {
        "colab": {
          "base_uri": "https://localhost:8080/"
        },
        "id": "QMWeS0AphOPx",
        "outputId": "781b97d8-e93f-4b23-c86c-998a54bce239"
      },
      "outputs": [
        {
          "name": "stdout",
          "output_type": "stream",
          "text": [
            "The argument outside before function is 5\n",
            "The argument is 5\n",
            "The argument is 6\n",
            "The argument is 5\n",
            "The argument outside after function is 6\n"
          ]
        }
      ],
      "source": [
        "i=5\n",
        "print(f'The argument outside before function is {i}')\n",
        "def f(arg=i):\n",
        "  print(f'The argument is {arg}')\n",
        "\n",
        "i=6\n",
        "f()\n",
        "f(6)\n",
        "f()\n",
        "print(f'The argument outside after function is {i}')"
      ]
    },
    {
      "cell_type": "code",
      "execution_count": null,
      "metadata": {
        "colab": {
          "base_uri": "https://localhost:8080/"
        },
        "id": "Gp1xNkx2Ckyx",
        "outputId": "87fa49cf-e86e-4e81-f455-1140ce636a71"
      },
      "outputs": [
        {
          "name": "stdout",
          "output_type": "stream",
          "text": [
            "The argument outside before function is 5 & 11527744\n",
            "The argument is 6 & 11527776\n",
            "The argument is 5 & 11527744\n",
            "The argument outside after function is 6 & 11527776\n"
          ]
        }
      ],
      "source": [
        "i=5\n",
        "print(f'The argument outside before function is {i} & {id(i)}')\n",
        "def f(arg=i):\n",
        "  print(f'The argument is {arg} & {id(arg)}')\n",
        "\n",
        "i=6\n",
        "f(6)\n",
        "f()\n",
        "print(f'The argument outside after function is {i} & {id(i)}')"
      ]
    },
    {
      "cell_type": "code",
      "execution_count": null,
      "metadata": {
        "colab": {
          "base_uri": "https://localhost:8080/"
        },
        "id": "A0yF2qeYoY4-",
        "outputId": "614cabe4-a222-4f8c-8dc6-e50d837b99c1"
      },
      "outputs": [
        {
          "name": "stdout",
          "output_type": "stream",
          "text": [
            "139668719584256 : [1]\n",
            "139668719584256 : [1, 2]\n",
            "139668719584256 : [1, 2, 3]\n"
          ]
        }
      ],
      "source": [
        "def f(a,L=[]):\n",
        "  L.append(a)\n",
        "  print(id(L),end=' : ')\n",
        "  return L\n",
        "\n",
        "print(f(1))\n",
        "print(f(2))\n",
        "print(f(3))"
      ]
    },
    {
      "cell_type": "code",
      "execution_count": null,
      "metadata": {
        "colab": {
          "base_uri": "https://localhost:8080/"
        },
        "id": "f2XxhZ5KHHkF",
        "outputId": "c4a21868-c6da-4bcc-8a78-6bfe96f4e054"
      },
      "outputs": [
        {
          "name": "stdout",
          "output_type": "stream",
          "text": [
            "139668789295552\n",
            "139668789295552\n",
            "139668789294144 [3, 4]\n"
          ]
        }
      ],
      "source": [
        "def f(L):\n",
        "  print(id(L))\n",
        "  L.append(7)\n",
        "  print(id(L))\n",
        "  print(id(L[2:4]), L[2:4])\n",
        "\n",
        "L=[1,2,3,4,5]\n",
        "f(L)\n"
      ]
    },
    {
      "cell_type": "code",
      "execution_count": null,
      "metadata": {
        "id": "sg52yRzCxOh2"
      },
      "outputs": [],
      "source": [
        "def f1(a, L=None):\n",
        "  if L is None:\n",
        "    L=[]\n",
        "  L.append(a)\n",
        "  print(id(L), end=' : ')\n",
        "  return L\n",
        "  \n",
        "\n",
        "print(f1(1,None))\n",
        "print(f1(2))\n",
        "print(f1(3))\n"
      ]
    },
    {
      "cell_type": "markdown",
      "metadata": {
        "id": "VskEsLNW2rjs"
      },
      "source": [
        "**KEYWORD ARGUMENT** "
      ]
    },
    {
      "cell_type": "code",
      "execution_count": null,
      "metadata": {
        "colab": {
          "base_uri": "https://localhost:8080/"
        },
        "id": "1WQzcQD02zsb",
        "outputId": "2b47641b-b2ac-4242-84d3-f7a33fe78ca1"
      },
      "outputs": [
        {
          "name": "stdout",
          "output_type": "stream",
          "text": [
            "college name :  SIT\n",
            "name of the student :  Purva\n",
            "passing year is : 2026\n"
          ]
        }
      ],
      "source": [
        "def student(college, name, pass_year=2026):\n",
        "  print(\"college name : \", college)\n",
        "  print(\"name of the student : \", name)\n",
        "  print(\"passing year is :\",pass_year)\n",
        "\n",
        "student(name=\"Purva\",college=\"SIT\")"
      ]
    },
    {
      "cell_type": "code",
      "execution_count": null,
      "metadata": {
        "colab": {
          "base_uri": "https://localhost:8080/"
        },
        "id": "E5_HRaBX4Pgt",
        "outputId": "8f57d4d0-c847-4773-c70c-b7507f50de1d"
      },
      "outputs": [
        {
          "data": {
            "text/plain": [
              "30.0"
            ]
          },
          "execution_count": 10,
          "metadata": {},
          "output_type": "execute_result"
        }
      ],
      "source": [
        "def amt(qty,price,discount=0):\n",
        "  t=qty*price\n",
        "  return(t-(t*(discount/100)))\n",
        "#amt(6,discount=10,price=5)\n",
        "#amt(6,price=5)\n",
        "#amt(6,5,10)\n",
        "#amt()\n",
        "#amt(discount=10,price=5,6)\n",
        "#amt(6,qty=10,price=5)\n",
        "#amt(6,dis=10,price=5)\n",
        "amt(price=5,qty=6)"
      ]
    },
    {
      "cell_type": "code",
      "execution_count": null,
      "metadata": {
        "colab": {
          "base_uri": "https://localhost:8080/"
        },
        "id": "xl4QfmJGFXY9",
        "outputId": "38f40a3e-b5f1-4316-8063-82fbbf7b65d4"
      },
      "outputs": [
        {
          "name": "stdout",
          "output_type": "stream",
          "text": [
            "College Name\n",
            "Branch\n",
            "Students\n",
            "('College Name', 'Branch', 'Students')\n"
          ]
        }
      ],
      "source": [
        "#Arbitrary Arguments\n",
        "def fun(*arg_list):\n",
        "  for arg in arg_list:\n",
        "    print(arg, end='\\n')\n",
        "  print(arg_list)\n",
        "\n",
        "fun(\"College Name\",\"Branch\",\"Students\")"
      ]
    },
    {
      "cell_type": "code",
      "execution_count": null,
      "metadata": {
        "colab": {
          "base_uri": "https://localhost:8080/"
        },
        "id": "CFWJt44zPjls",
        "outputId": "4bca5f8d-47c6-4f3b-e499-67ae0fbd7185"
      },
      "outputs": [
        {
          "name": "stdout",
          "output_type": "stream",
          "text": [
            "Monali\n",
            "{'flatn': 21, 'city': 'Nagpur', 'num': 121348}\n"
          ]
        }
      ],
      "source": [
        "def person(name,**data):\n",
        "  print(name)\n",
        "  print(data)\n",
        "\n",
        "\n",
        "person('Monali',flatn=21,city='Nagpur',num=121348)"
      ]
    },
    {
      "cell_type": "markdown",
      "metadata": {
        "id": "ek4dlkrxmDje"
      },
      "source": [
        "###Lambda Function\n",
        "A lambda function is a small anonymous function.\n",
        "\n",
        "A lambda function can take any number of arguments, but can only have one expression.\n",
        "\n",
        "a shorthand notation if you’re too lazy to define a function\n",
        "\n",
        "##Syntax:\n",
        "lambda arguments : expression"
      ]
    },
    {
      "cell_type": "code",
      "execution_count": null,
      "metadata": {
        "colab": {
          "base_uri": "https://localhost:8080/"
        },
        "id": "xChm2tTOmVxR",
        "outputId": "9e9e92ed-849e-4977-f7b7-17d6b48247cb"
      },
      "outputs": [
        {
          "name": "stdout",
          "output_type": "stream",
          "text": [
            "15\n"
          ]
        }
      ],
      "source": [
        "x = lambda a : a + 10\n",
        "print(x(5))"
      ]
    },
    {
      "cell_type": "code",
      "execution_count": null,
      "metadata": {
        "colab": {
          "base_uri": "https://localhost:8080/"
        },
        "id": "R2a34QdlmZI2",
        "outputId": "a0eee72e-fe77-472f-f2a3-aa882fc3ab61"
      },
      "outputs": [
        {
          "name": "stdout",
          "output_type": "stream",
          "text": [
            "17\n"
          ]
        }
      ],
      "source": [
        "x = lambda a, b, c : a + b * c\n",
        "print(x(5, 6, 2))"
      ]
    },
    {
      "cell_type": "code",
      "execution_count": null,
      "metadata": {
        "colab": {
          "base_uri": "https://localhost:8080/"
        },
        "id": "EY7IRLDop3Tf",
        "outputId": "98e369a3-fec3-42f8-a305-e7ed992ed3bb"
      },
      "outputs": [
        {
          "name": "stdout",
          "output_type": "stream",
          "text": [
            "[1, 2, 3, 4, 5, 6]\n",
            "[2, 4, 6]\n",
            "[1, 3, 5]\n"
          ]
        }
      ],
      "source": [
        "num=[1,2,3,4,5,6]\n",
        "print(num)\n",
        "even=list(filter(lambda a:a%2==0,num))\n",
        "print(even)\n",
        "odd=list(filter(lambda a:a%2!=0,num))\n",
        "print(odd)"
      ]
    },
    {
      "cell_type": "code",
      "execution_count": null,
      "metadata": {
        "colab": {
          "base_uri": "https://localhost:8080/",
          "height": 35
        },
        "id": "YUQvUrugTB43",
        "outputId": "271671ee-ca07-4be3-bef7-f628a4528042"
      },
      "outputs": [
        {
          "data": {
            "application/vnd.google.colaboratory.intrinsic+json": {
              "type": "string"
            },
            "text/plain": [
              "'even'"
            ]
          },
          "execution_count": 9,
          "metadata": {},
          "output_type": "execute_result"
        }
      ],
      "source": [
        "8 % 2 and 'odd' or 'even'  "
      ]
    },
    {
      "cell_type": "code",
      "execution_count": null,
      "metadata": {
        "colab": {
          "base_uri": "https://localhost:8080/",
          "height": 35
        },
        "id": "VadGJRnoTZ_V",
        "outputId": "b0171d0a-c941-4708-c354-4da5aef61665"
      },
      "outputs": [
        {
          "data": {
            "application/vnd.google.colaboratory.intrinsic+json": {
              "type": "string"
            },
            "text/plain": [
              "'odd'"
            ]
          },
          "execution_count": 10,
          "metadata": {},
          "output_type": "execute_result"
        }
      ],
      "source": [
        "1 and 'odd' "
      ]
    },
    {
      "cell_type": "code",
      "execution_count": null,
      "metadata": {
        "colab": {
          "base_uri": "https://localhost:8080/"
        },
        "id": "ilGoJW13qPzn",
        "outputId": "600c42b1-c2de-4b2c-d484-5bdc27c97179"
      },
      "outputs": [
        {
          "name": "stdout",
          "output_type": "stream",
          "text": [
            "<class 'function'>\n",
            "  2           0 LOAD_FAST                0 (x)\n",
            "              2 LOAD_FAST                1 (y)\n",
            "              4 BINARY_ADD\n",
            "              6 RETURN_VALUE\n",
            "<function <lambda> at 0x7f261c4169d0>\n"
          ]
        }
      ],
      "source": [
        "import dis  #The dis module exposes functions to analyze Python bytecode generated by the Python compiler\n",
        "add = lambda x, y: x + y\n",
        "print(type(add))\n",
        "dis.dis(add)\n",
        "print(add)"
      ]
    },
    {
      "cell_type": "code",
      "execution_count": null,
      "metadata": {
        "colab": {
          "base_uri": "https://localhost:8080/"
        },
        "id": "pd3V_QtAqh7E",
        "outputId": "74eed0f1-1602-40e3-abde-ab0ee8b94bde"
      },
      "outputs": [
        {
          "name": "stdout",
          "output_type": "stream",
          "text": [
            "<class 'function'>\n",
            "  1           0 LOAD_FAST                0 (x)\n",
            "              2 LOAD_FAST                1 (y)\n",
            "              4 BINARY_ADD\n",
            "              6 RETURN_VALUE\n",
            "<function add at 0x7f261c416dc0>\n"
          ]
        }
      ],
      "source": [
        "def add(x, y): return x + y\n",
        "print(type(add))\n",
        "dis.dis(add)\n",
        "print(add)"
      ]
    },
    {
      "cell_type": "code",
      "execution_count": null,
      "metadata": {
        "id": "6JrqtMmFFwn2"
      },
      "outputs": [],
      "source": []
    },
    {
      "cell_type": "code",
      "execution_count": null,
      "metadata": {
        "colab": {
          "base_uri": "https://localhost:8080/",
          "height": 35
        },
        "id": "cVLtkPdxsG5j",
        "outputId": "a4b5a1f1-f293-4a80-94de-135a25689a57"
      },
      "outputs": [
        {
          "data": {
            "application/vnd.google.colaboratory.intrinsic+json": {
              "type": "string"
            },
            "text/plain": [
              "'odd'"
            ]
          },
          "execution_count": 13,
          "metadata": {},
          "output_type": "execute_result"
        }
      ],
      "source": [
        "(lambda x:\n",
        " (x % 2 and 'odd' or 'even'))(3) #Multiline single expression using parentheses"
      ]
    },
    {
      "cell_type": "code",
      "execution_count": null,
      "metadata": {
        "id": "PeAO-GituLTg"
      },
      "outputs": [],
      "source": [
        "m = (lambda x:\n",
        "... (x % 2 and 'odd' or 'even'))"
      ]
    },
    {
      "cell_type": "code",
      "execution_count": null,
      "metadata": {
        "colab": {
          "base_uri": "https://localhost:8080/",
          "height": 35
        },
        "id": "MqEhtzZQuOTY",
        "outputId": "d99981c6-98ec-406b-b51a-8a3658afce9a"
      },
      "outputs": [
        {
          "data": {
            "application/vnd.google.colaboratory.intrinsic+json": {
              "type": "string"
            },
            "text/plain": [
              "'even'"
            ]
          },
          "execution_count": 15,
          "metadata": {},
          "output_type": "execute_result"
        }
      ],
      "source": [
        "m(6)"
      ]
    },
    {
      "cell_type": "markdown",
      "metadata": {
        "id": "InVxraV1suN6"
      },
      "source": [
        "Python lambda expressions support all the different ways of passing arguments\n",
        "- Positional arguments\n",
        "- Named arguments (sometimes called keyword arguments)\n",
        "- Variable list of arguments (often referred to as varargs)\n",
        "- Variable list of keyword arguments\n",
        "- Keyword-only arguments"
      ]
    },
    {
      "cell_type": "code",
      "execution_count": null,
      "metadata": {
        "colab": {
          "base_uri": "https://localhost:8080/"
        },
        "id": "6nUMQbJ6sq6c",
        "outputId": "69f4f592-27d6-4844-aa84-01bc131684e8"
      },
      "outputs": [
        {
          "name": "stdout",
          "output_type": "stream",
          "text": [
            "6\n",
            "6\n",
            "6\n",
            "6\n",
            "6\n",
            "6\n"
          ]
        }
      ],
      "source": [
        "print((lambda x, y, z: x + y + z)(1, 2, 3))\n",
        "print((lambda x, y, z=3: x + y + z)(1, 2))\n",
        "print((lambda x, y, z=3: x + y + z)(1, y=2))\n",
        "print((lambda *args: sum(args))(1,2,3))\n",
        "print((lambda **kwargs: sum(kwargs.values()))(one=1, two=2, three=3))\n",
        "print((lambda x, *, y=0, z=0: x + y + z)(1, y=2, z=3))"
      ]
    },
    {
      "cell_type": "markdown",
      "metadata": {
        "id": "97zcwAqMmgEY"
      },
      "source": [
        "###Why Use Lambda Functions?\n",
        "The power of lambda is better shown when you use them as an anonymous function inside another function.\n",
        "\n",
        "Say you have a function definition that takes one argument, and that argument will be multiplied with an unknown number:"
      ]
    },
    {
      "cell_type": "code",
      "execution_count": null,
      "metadata": {
        "id": "jDPyrJtvmbWu"
      },
      "outputs": [],
      "source": [
        "#Use that function definition to make a function that always doubles the number you send in\n",
        "def myfunc(n):\n",
        "  return lambda a : a * n\n",
        "\n",
        "mydoubler = myfunc(5)\n",
        "\n",
        "print(mydoubler(11))"
      ]
    },
    {
      "cell_type": "markdown",
      "metadata": {
        "id": "q5W9z_hgm_u9"
      },
      "source": [
        "###map Function\n",
        "map() function returns a map object(which is an iterator) of the results after applying the given function to each item of a given iterable (list, tuple etc.)\n",
        "\n",
        "##Syntax:\n",
        "\n",
        "> map(fun, iter)\n",
        "\n",
        "##Parameters:\n",
        "\n",
        "> fun : It is a function to which map passes each element of given iterable.\n",
        "> iter : It is a iterable which is to be mapped.\n",
        "\n",
        "NOTE : You can pass one or more iterable to the map() function.\n",
        "\n",
        "##Returns:\n",
        "\n",
        "Returns a list of the results after applying the given function to each item of a given iterable (list, tuple etc.) \n",
        " \n",
        "NOTE : The returned value from map() (map object) then can be passed to functions like list() (to create a list), set() (to create a set) ."
      ]
    },
    {
      "cell_type": "code",
      "execution_count": null,
      "metadata": {
        "colab": {
          "base_uri": "https://localhost:8080/"
        },
        "id": "3-4sR4PvmmON",
        "outputId": "d37d3dc9-4fc4-4bd6-fbf0-74635391beea"
      },
      "outputs": [
        {
          "name": "stdout",
          "output_type": "stream",
          "text": [
            "5 6\n"
          ]
        }
      ],
      "source": [
        "x, y = map(int,input().split())"
      ]
    },
    {
      "cell_type": "code",
      "execution_count": null,
      "metadata": {
        "colab": {
          "base_uri": "https://localhost:8080/"
        },
        "id": "0sjXgFbIvCpJ",
        "outputId": "0acebbcc-4422-4238-8305-92ecb28c2ee1"
      },
      "outputs": [
        {
          "data": {
            "text/plain": [
              "int"
            ]
          },
          "execution_count": 3,
          "metadata": {},
          "output_type": "execute_result"
        }
      ],
      "source": [
        "type(x)"
      ]
    },
    {
      "cell_type": "code",
      "execution_count": null,
      "metadata": {
        "id": "vE4m-X9CW70q"
      },
      "outputs": [],
      "source": [
        "def addition(x):\n",
        "  return x+x"
      ]
    },
    {
      "cell_type": "code",
      "execution_count": null,
      "metadata": {
        "colab": {
          "base_uri": "https://localhost:8080/"
        },
        "id": "0XIKhLRfnM59",
        "outputId": "254cffca-e866-4222-c886-c99d4cc220e4"
      },
      "outputs": [
        {
          "name": "stdout",
          "output_type": "stream",
          "text": [
            "<class 'map'>\n",
            "[2, 4, 6, 8]\n"
          ]
        },
        {
          "data": {
            "text/plain": [
              "<map at 0x7f1d93be1d90>"
            ]
          },
          "execution_count": 7,
          "metadata": {},
          "output_type": "execute_result"
        }
      ],
      "source": [
        "# Return double of n\n",
        "  \n",
        "# We double all numbers using map()\n",
        "numbers = (1, 2, 3, 4)\n",
        "result = map(addition, numbers)\n",
        "print(type(result))\n",
        "print(list(result))\n",
        "result"
      ]
    },
    {
      "cell_type": "code",
      "execution_count": null,
      "metadata": {
        "colab": {
          "base_uri": "https://localhost:8080/"
        },
        "id": "k5DPUbz_Wllu",
        "outputId": "a1f2bad1-2ce8-4573-c1ac-ef337f807f6c"
      },
      "outputs": [
        {
          "name": "stdout",
          "output_type": "stream",
          "text": [
            "5 3 4 9\n",
            "[5, 3, 4, 9]\n"
          ]
        }
      ],
      "source": [
        "y = list(map(int, input().split()))\n",
        "print(y)"
      ]
    },
    {
      "cell_type": "code",
      "execution_count": null,
      "metadata": {
        "colab": {
          "base_uri": "https://localhost:8080/"
        },
        "id": "adv_Qq_rnPo2",
        "outputId": "d01616df-5844-47a2-b858-562cc41899f6"
      },
      "outputs": [
        {
          "name": "stdout",
          "output_type": "stream",
          "text": [
            "[1, 4, 9, 16]\n"
          ]
        }
      ],
      "source": [
        "12# Return square of n\n",
        "def addition(n):\n",
        "    return n * n\n",
        "  \n",
        "# We double all numbers using map()\n",
        "numbers = {1, 2, 3, 4}\n",
        "result = map(addition, numbers)\n",
        "print(list(result))"
      ]
    },
    {
      "cell_type": "code",
      "execution_count": null,
      "metadata": {
        "colab": {
          "base_uri": "https://localhost:8080/"
        },
        "id": "xKruMu2OnSZ1",
        "outputId": "03c97b27-abaa-4cdf-e82b-c1e2132a36b7"
      },
      "outputs": [
        {
          "name": "stdout",
          "output_type": "stream",
          "text": [
            "[5, 7, 9]\n"
          ]
        }
      ],
      "source": [
        "# Add two lists using map and lambda\n",
        "  \n",
        "numbers1 = [1, 2, 3]\n",
        "numbers2 = [4, 5, 6]\n",
        "  \n",
        "result = map(lambda x, y: x + y, numbers1, numbers2)\n",
        "print(list(result))"
      ]
    },
    {
      "cell_type": "code",
      "execution_count": null,
      "metadata": {
        "colab": {
          "base_uri": "https://localhost:8080/"
        },
        "id": "ysGe-LNIwjvt",
        "outputId": "5a4b7e38-9802-4dd2-a42a-b3f87b4073af"
      },
      "outputs": [
        {
          "name": "stdout",
          "output_type": "stream",
          "text": [
            "[10, 40, 90, 160, 250]\n"
          ]
        }
      ],
      "source": [
        "# Using Multiple Iterables with Python map()\n",
        "lst = [1, 2, 3, 4, 5]\n",
        "mod_lst = [10, 20, 30, 40, 50]\n",
        "\n",
        "Mul_Res = list(map(lambda x, y: x*y, lst, mod_lst))\n",
        "\n",
        "print(Mul_Res)\n"
      ]
    },
    {
      "cell_type": "code",
      "execution_count": null,
      "metadata": {
        "colab": {
          "base_uri": "https://localhost:8080/"
        },
        "id": "vyrXmFqrnV1B",
        "outputId": "80f9f562-1e3e-4f38-ddc9-e14fc08d77cc"
      },
      "outputs": [
        {
          "name": "stdout",
          "output_type": "stream",
          "text": [
            "[['s', 'a', 't'], ['b', 'a', 't'], ['c', 'a', 't'], ['m', 'a', 't']]\n"
          ]
        }
      ],
      "source": [
        "# List of strings\n",
        "l = ['sat', 'bat', 'cat', 'mat']\n",
        "  \n",
        "# map() can listify the list of strings individually\n",
        "test = list(map(list, l))\n",
        "print(test)"
      ]
    },
    {
      "cell_type": "code",
      "execution_count": null,
      "metadata": {
        "colab": {
          "base_uri": "https://localhost:8080/"
        },
        "id": "dvB5tZmf4gj0",
        "outputId": "aefde7e9-5f84-4439-c5c5-f39051c1f526"
      },
      "outputs": [
        {
          "name": "stdout",
          "output_type": "stream",
          "text": [
            " 5 6 7\n",
            "[120, 720, 5040]\n"
          ]
        }
      ],
      "source": [
        "nums = list(map(int, input().split()))\n",
        "def fact(x):\n",
        "  j = 1\n",
        "  for i in range(1, x+1):\n",
        "    j = j*i\n",
        "  return j\n",
        "fct = list(map(fact, nums))\n",
        "print(fct)"
      ]
    },
    {
      "cell_type": "code",
      "execution_count": null,
      "metadata": {
        "colab": {
          "base_uri": "https://localhost:8080/"
        },
        "id": "IWvpjEGc8JmZ",
        "outputId": "01e152ce-d8f2-49f7-9fe1-b6cefc9af36e"
      },
      "outputs": [
        {
          "name": "stdout",
          "output_type": "stream",
          "text": [
            "6 7 8\n",
            "[720, 5040, 40320]\n"
          ]
        }
      ],
      "source": [
        "import math\n",
        "nums = list(map(int, input().split()))\n",
        "pst = list(map(math.factorial, nums))\n",
        "print(pst)"
      ]
    },
    {
      "cell_type": "markdown",
      "metadata": {
        "id": "_73RPOcBdHFn"
      },
      "source": [
        "<a id='module'> </a>\n",
        "## Python Module\n",
        "* A python script with python functions and statements\n",
        "* Import a module before having access to all the functions within\n",
        "* Most Python distributions come with plenty of build-in modules \n",
        "***"
      ]
    },
    {
      "cell_type": "markdown",
      "metadata": {
        "id": "h9s2tfPcdHFo"
      },
      "source": [
        "\n",
        "## Python Modules\n",
        "* math, sys, os..\n",
        "* NumPy, high performance in vector & matrix using vector computation \n",
        "* SciPy: based on Numpy, including many scientific algorithms.\n",
        "* padas\n",
        "* matplotlib, pyplot, pylab\n",
        "\n",
        "Reference to [Python3.x standard libraries](https://docs.python.org/3/library/) \n"
      ]
    },
    {
      "cell_type": "code",
      "execution_count": null,
      "metadata": {
        "colab": {
          "base_uri": "https://localhost:8080/"
        },
        "id": "H9NB_NcNdHFo",
        "outputId": "effabeeb-bc8a-4c10-f1b8-49ec85479126"
      },
      "outputs": [
        {
          "name": "stdout",
          "output_type": "stream",
          "text": [
            "3.141592653589793\n",
            "-0.3048106211022167\n",
            "2.0\n"
          ]
        }
      ],
      "source": [
        "#import a module\n",
        "\n",
        "import math\n",
        "print(math.pi)\n",
        "print(math.sin(60))\n",
        "print(math.sqrt(4))"
      ]
    },
    {
      "cell_type": "code",
      "execution_count": null,
      "metadata": {
        "colab": {
          "base_uri": "https://localhost:8080/"
        },
        "id": "WLYcrsKNT6zH",
        "outputId": "6bf389b8-a5d3-4566-c0b2-da1169757b5b"
      },
      "outputs": [
        {
          "data": {
            "text/plain": [
              "3.0"
            ]
          },
          "execution_count": 17,
          "metadata": {},
          "output_type": "execute_result"
        }
      ],
      "source": [
        "from math import sqrt\n",
        "sqrt(9)"
      ]
    },
    {
      "cell_type": "code",
      "execution_count": null,
      "metadata": {
        "colab": {
          "base_uri": "https://localhost:8080/"
        },
        "id": "C-aanA7xUGae",
        "outputId": "ad2ace46-cb93-47f6-8020-3db11745b01d"
      },
      "outputs": [
        {
          "name": "stdout",
          "output_type": "stream",
          "text": [
            "3.141592653589793\n"
          ]
        }
      ],
      "source": [
        "print(math.pi)"
      ]
    },
    {
      "cell_type": "code",
      "execution_count": null,
      "metadata": {
        "colab": {
          "base_uri": "https://localhost:8080/"
        },
        "id": "LZkg2iD_dHFq",
        "outputId": "9c6b769a-82fa-4c93-8566-ab6092879b06"
      },
      "outputs": [
        {
          "data": {
            "text/plain": [
              "['__doc__',\n",
              " '__loader__',\n",
              " '__name__',\n",
              " '__package__',\n",
              " '__spec__',\n",
              " 'acos',\n",
              " 'acosh',\n",
              " 'asin',\n",
              " 'asinh',\n",
              " 'atan',\n",
              " 'atan2',\n",
              " 'atanh',\n",
              " 'ceil',\n",
              " 'copysign',\n",
              " 'cos',\n",
              " 'cosh',\n",
              " 'degrees',\n",
              " 'e',\n",
              " 'erf',\n",
              " 'erfc',\n",
              " 'exp',\n",
              " 'expm1',\n",
              " 'fabs',\n",
              " 'factorial',\n",
              " 'floor',\n",
              " 'fmod',\n",
              " 'frexp',\n",
              " 'fsum',\n",
              " 'gamma',\n",
              " 'gcd',\n",
              " 'hypot',\n",
              " 'inf',\n",
              " 'isclose',\n",
              " 'isfinite',\n",
              " 'isinf',\n",
              " 'isnan',\n",
              " 'ldexp',\n",
              " 'lgamma',\n",
              " 'log',\n",
              " 'log10',\n",
              " 'log1p',\n",
              " 'log2',\n",
              " 'modf',\n",
              " 'nan',\n",
              " 'pi',\n",
              " 'pow',\n",
              " 'radians',\n",
              " 'remainder',\n",
              " 'sin',\n",
              " 'sinh',\n",
              " 'sqrt',\n",
              " 'tan',\n",
              " 'tanh',\n",
              " 'tau',\n",
              " 'trunc']"
            ]
          },
          "execution_count": 7,
          "metadata": {},
          "output_type": "execute_result"
        }
      ],
      "source": [
        "#get information of a module\n",
        "dir(math)"
      ]
    },
    {
      "cell_type": "code",
      "execution_count": null,
      "metadata": {
        "colab": {
          "base_uri": "https://localhost:8080/"
        },
        "id": "m2CnZMlldHFs",
        "outputId": "72861fab-94a0-4b01-a2fe-666225a3be42"
      },
      "outputs": [
        {
          "name": "stdout",
          "output_type": "stream",
          "text": [
            "Help on built-in module math:\n",
            "\n",
            "NAME\n",
            "    math\n",
            "\n",
            "DESCRIPTION\n",
            "    This module provides access to the mathematical functions\n",
            "    defined by the C standard.\n",
            "\n",
            "FUNCTIONS\n",
            "    acos(x, /)\n",
            "        Return the arc cosine (measured in radians) of x.\n",
            "    \n",
            "    acosh(x, /)\n",
            "        Return the inverse hyperbolic cosine of x.\n",
            "    \n",
            "    asin(x, /)\n",
            "        Return the arc sine (measured in radians) of x.\n",
            "    \n",
            "    asinh(x, /)\n",
            "        Return the inverse hyperbolic sine of x.\n",
            "    \n",
            "    atan(x, /)\n",
            "        Return the arc tangent (measured in radians) of x.\n",
            "    \n",
            "    atan2(y, x, /)\n",
            "        Return the arc tangent (measured in radians) of y/x.\n",
            "        \n",
            "        Unlike atan(y/x), the signs of both x and y are considered.\n",
            "    \n",
            "    atanh(x, /)\n",
            "        Return the inverse hyperbolic tangent of x.\n",
            "    \n",
            "    ceil(x, /)\n",
            "        Return the ceiling of x as an Integral.\n",
            "        \n",
            "        This is the smallest integer >= x.\n",
            "    \n",
            "    copysign(x, y, /)\n",
            "        Return a float with the magnitude (absolute value) of x but the sign of y.\n",
            "        \n",
            "        On platforms that support signed zeros, copysign(1.0, -0.0)\n",
            "        returns -1.0.\n",
            "    \n",
            "    cos(x, /)\n",
            "        Return the cosine of x (measured in radians).\n",
            "    \n",
            "    cosh(x, /)\n",
            "        Return the hyperbolic cosine of x.\n",
            "    \n",
            "    degrees(x, /)\n",
            "        Convert angle x from radians to degrees.\n",
            "    \n",
            "    erf(x, /)\n",
            "        Error function at x.\n",
            "    \n",
            "    erfc(x, /)\n",
            "        Complementary error function at x.\n",
            "    \n",
            "    exp(x, /)\n",
            "        Return e raised to the power of x.\n",
            "    \n",
            "    expm1(x, /)\n",
            "        Return exp(x)-1.\n",
            "        \n",
            "        This function avoids the loss of precision involved in the direct evaluation of exp(x)-1 for small x.\n",
            "    \n",
            "    fabs(x, /)\n",
            "        Return the absolute value of the float x.\n",
            "    \n",
            "    factorial(x, /)\n",
            "        Find x!.\n",
            "        \n",
            "        Raise a ValueError if x is negative or non-integral.\n",
            "    \n",
            "    floor(x, /)\n",
            "        Return the floor of x as an Integral.\n",
            "        \n",
            "        This is the largest integer <= x.\n",
            "    \n",
            "    fmod(x, y, /)\n",
            "        Return fmod(x, y), according to platform C.\n",
            "        \n",
            "        x % y may differ.\n",
            "    \n",
            "    frexp(x, /)\n",
            "        Return the mantissa and exponent of x, as pair (m, e).\n",
            "        \n",
            "        m is a float and e is an int, such that x = m * 2.**e.\n",
            "        If x is 0, m and e are both 0.  Else 0.5 <= abs(m) < 1.0.\n",
            "    \n",
            "    fsum(seq, /)\n",
            "        Return an accurate floating point sum of values in the iterable seq.\n",
            "        \n",
            "        Assumes IEEE-754 floating point arithmetic.\n",
            "    \n",
            "    gamma(x, /)\n",
            "        Gamma function at x.\n",
            "    \n",
            "    gcd(x, y, /)\n",
            "        greatest common divisor of x and y\n",
            "    \n",
            "    hypot(x, y, /)\n",
            "        Return the Euclidean distance, sqrt(x*x + y*y).\n",
            "    \n",
            "    isclose(a, b, *, rel_tol=1e-09, abs_tol=0.0)\n",
            "        Determine whether two floating point numbers are close in value.\n",
            "        \n",
            "          rel_tol\n",
            "            maximum difference for being considered \"close\", relative to the\n",
            "            magnitude of the input values\n",
            "          abs_tol\n",
            "            maximum difference for being considered \"close\", regardless of the\n",
            "            magnitude of the input values\n",
            "        \n",
            "        Return True if a is close in value to b, and False otherwise.\n",
            "        \n",
            "        For the values to be considered close, the difference between them\n",
            "        must be smaller than at least one of the tolerances.\n",
            "        \n",
            "        -inf, inf and NaN behave similarly to the IEEE 754 Standard.  That\n",
            "        is, NaN is not close to anything, even itself.  inf and -inf are\n",
            "        only close to themselves.\n",
            "    \n",
            "    isfinite(x, /)\n",
            "        Return True if x is neither an infinity nor a NaN, and False otherwise.\n",
            "    \n",
            "    isinf(x, /)\n",
            "        Return True if x is a positive or negative infinity, and False otherwise.\n",
            "    \n",
            "    isnan(x, /)\n",
            "        Return True if x is a NaN (not a number), and False otherwise.\n",
            "    \n",
            "    ldexp(x, i, /)\n",
            "        Return x * (2**i).\n",
            "        \n",
            "        This is essentially the inverse of frexp().\n",
            "    \n",
            "    lgamma(x, /)\n",
            "        Natural logarithm of absolute value of Gamma function at x.\n",
            "    \n",
            "    log(...)\n",
            "        log(x, [base=math.e])\n",
            "        Return the logarithm of x to the given base.\n",
            "        \n",
            "        If the base not specified, returns the natural logarithm (base e) of x.\n",
            "    \n",
            "    log10(x, /)\n",
            "        Return the base 10 logarithm of x.\n",
            "    \n",
            "    log1p(x, /)\n",
            "        Return the natural logarithm of 1+x (base e).\n",
            "        \n",
            "        The result is computed in a way which is accurate for x near zero.\n",
            "    \n",
            "    log2(x, /)\n",
            "        Return the base 2 logarithm of x.\n",
            "    \n",
            "    modf(x, /)\n",
            "        Return the fractional and integer parts of x.\n",
            "        \n",
            "        Both results carry the sign of x and are floats.\n",
            "    \n",
            "    pow(x, y, /)\n",
            "        Return x**y (x to the power of y).\n",
            "    \n",
            "    radians(x, /)\n",
            "        Convert angle x from degrees to radians.\n",
            "    \n",
            "    remainder(x, y, /)\n",
            "        Difference between x and the closest integer multiple of y.\n",
            "        \n",
            "        Return x - n*y where n*y is the closest integer multiple of y.\n",
            "        In the case where x is exactly halfway between two multiples of\n",
            "        y, the nearest even value of n is used. The result is always exact.\n",
            "    \n",
            "    sin(x, /)\n",
            "        Return the sine of x (measured in radians).\n",
            "    \n",
            "    sinh(x, /)\n",
            "        Return the hyperbolic sine of x.\n",
            "    \n",
            "    sqrt(x, /)\n",
            "        Return the square root of x.\n",
            "    \n",
            "    tan(x, /)\n",
            "        Return the tangent of x (measured in radians).\n",
            "    \n",
            "    tanh(x, /)\n",
            "        Return the hyperbolic tangent of x.\n",
            "    \n",
            "    trunc(x, /)\n",
            "        Truncates the Real x to the nearest Integral toward 0.\n",
            "        \n",
            "        Uses the __trunc__ magic method.\n",
            "\n",
            "DATA\n",
            "    e = 2.718281828459045\n",
            "    inf = inf\n",
            "    nan = nan\n",
            "    pi = 3.141592653589793\n",
            "    tau = 6.283185307179586\n",
            "\n",
            "FILE\n",
            "    (built-in)\n",
            "\n",
            "\n"
          ]
        }
      ],
      "source": [
        "#get information\n",
        "help(math)"
      ]
    },
    {
      "cell_type": "code",
      "execution_count": null,
      "metadata": {
        "colab": {
          "base_uri": "https://localhost:8080/"
        },
        "id": "fL7e1I0IdHFt",
        "outputId": "ee534c74-0c48-4f03-c714-a03022c88a10"
      },
      "outputs": [
        {
          "name": "stdout",
          "output_type": "stream",
          "text": [
            "Help on built-in function print in module builtins:\n",
            "\n",
            "print(...)\n",
            "    print(value, ..., sep=' ', end='\\n', file=sys.stdout, flush=False)\n",
            "    \n",
            "    Prints the values to a stream, or to sys.stdout by default.\n",
            "    Optional keyword arguments:\n",
            "    file:  a file-like object (stream); defaults to the current sys.stdout.\n",
            "    sep:   string inserted between values, default a space.\n",
            "    end:   string appended after the last value, default a newline.\n",
            "    flush: whether to forcibly flush the stream.\n",
            "\n"
          ]
        }
      ],
      "source": [
        "# get information of a module function \n",
        "help(print)"
      ]
    },
    {
      "cell_type": "markdown",
      "metadata": {
        "id": "zt4YHVYPdHGR"
      },
      "source": [
        "#### Data processing\n"
      ]
    },
    {
      "cell_type": "code",
      "execution_count": null,
      "metadata": {
        "colab": {
          "base_uri": "https://localhost:8080/",
          "height": 295
        },
        "id": "vkXjWnr_dHGZ",
        "outputId": "6b48fe98-3823-44b4-b909-d229a58d7af6"
      },
      "outputs": [
        {
          "data": {
            "image/png": "[encoded data removed]",
            "text/plain": [
              "<Figure size 432x288 with 1 Axes>"
            ]
          },
          "metadata": {},
          "output_type": "display_data"
        }
      ],
      "source": [
        "# Plot a bar chart\n",
        "# https://matplotlib.org/\n",
        "import matplotlib.pyplot as plt\n",
        "\n",
        "xlabeles = ['January','February','March','April']\n",
        "xticks = [i for i in range(len(xlabeles))]\n",
        "y = [ 34, 17, 13, 69]\n",
        "e = [5.2, 10., 1.5, 12.]\n",
        "#plt.errorbar(xlabeles, y, yerr=e, fmt='d', capsize=10)\n",
        "plt.bar(xlabeles, y, 0.5, color='red' )\n",
        "plt.title(\"Sale by Month\")\n",
        "plt.xlabel('Month')\n",
        "plt.ylabel('Sale')\n",
        "#plt.xticks(xticks, xlabeles)\n",
        "\n",
        "plt.show()"
      ]
    },
    {
      "cell_type": "code",
      "execution_count": null,
      "metadata": {
        "colab": {
          "base_uri": "https://localhost:8080/"
        },
        "id": "PSOmeMvDj5Sa",
        "outputId": "5228582b-622e-4c51-bd7e-ad3545482634"
      },
      "outputs": [
        {
          "name": "stdout",
          "output_type": "stream",
          "text": [
            "Writing calc.py\n"
          ]
        }
      ],
      "source": [
        "%%writefile calc.py\n",
        "def addition(x, y):\n",
        "     return x + y\n",
        "def subtraction(x, y):\n",
        "     return x-y\n",
        "def multiplication(x, y):\n",
        "     return x * y\n",
        "def division(x, y):\n",
        "     return x / y\n",
        "\n",
        "if __name__ == '__main__':\n",
        "    print(\"<> Running the module as a script! <>\")"
      ]
    },
    {
      "cell_type": "code",
      "execution_count": null,
      "metadata": {
        "colab": {
          "base_uri": "https://localhost:8080/"
        },
        "id": "uYrnh2AM1WNA",
        "outputId": "ffab8269-377a-4566-dbbb-ad1c3fdf20d4"
      },
      "outputs": [
        {
          "name": "stdout",
          "output_type": "stream",
          "text": [
            "def addition(x, y):\n",
            "     return x + y\n",
            "def subtraction(x, y):\n",
            "     return x-y\n",
            "def multiplication(x, y):\n",
            "     return x * y\n",
            "def division(x, y):\n",
            "     return x / y\n",
            "\n",
            "if __name__ == '__main__':\n",
            "    print(\"<> Running the module as a script! <>\")\n"
          ]
        }
      ],
      "source": [
        "%cat calc.py"
      ]
    },
    {
      "cell_type": "code",
      "execution_count": null,
      "metadata": {
        "colab": {
          "base_uri": "https://localhost:8080/"
        },
        "id": "UtNoi6W2Ukku",
        "outputId": "ecda8efe-3c16-48e7-9899-1d414633b87d"
      },
      "outputs": [
        {
          "data": {
            "text/plain": [
              "['__builtins__',\n",
              " '__cached__',\n",
              " '__doc__',\n",
              " '__file__',\n",
              " '__loader__',\n",
              " '__name__',\n",
              " '__package__',\n",
              " '__spec__',\n",
              " 'addition',\n",
              " 'division',\n",
              " 'multiplication',\n",
              " 'subtraction']"
            ]
          },
          "execution_count": 3,
          "metadata": {},
          "output_type": "execute_result"
        }
      ],
      "source": [
        "import calc\n",
        "dir(calc)"
      ]
    },
    {
      "cell_type": "code",
      "execution_count": null,
      "metadata": {
        "colab": {
          "base_uri": "https://localhost:8080/"
        },
        "id": "QEz21CT3czde",
        "outputId": "184ffbac-7608-4c91-c74c-035a5875f90f"
      },
      "outputs": [
        {
          "data": {
            "text/plain": [
              "13"
            ]
          },
          "execution_count": 5,
          "metadata": {},
          "output_type": "execute_result"
        }
      ],
      "source": [
        "from calc import addition\n",
        "addition(8, 5)\n",
        "add(7,6)"
      ]
    },
    {
      "cell_type": "code",
      "execution_count": null,
      "metadata": {
        "colab": {
          "base_uri": "https://localhost:8080/"
        },
        "id": "jr8C7e_iIQod",
        "outputId": "0496e9d9-4204-4c24-9cfc-6fe1dc22ce5a"
      },
      "outputs": [
        {
          "data": {
            "text/plain": [
              "2.6666666666666665"
            ]
          },
          "execution_count": 24,
          "metadata": {},
          "output_type": "execute_result"
        }
      ],
      "source": [
        "import calc\n",
        "calc.division(8,3)"
      ]
    },
    {
      "cell_type": "code",
      "execution_count": null,
      "metadata": {
        "colab": {
          "base_uri": "https://localhost:8080/",
          "height": 167
        },
        "id": "279NvARSfvyC",
        "outputId": "ac4a4129-590f-48d2-d54c-4dafd852380a"
      },
      "outputs": [
        {
          "ename": "NameError",
          "evalue": "ignored",
          "output_type": "error",
          "traceback": [
            "\u001b[0;31m---------------------------------------------------------------------------\u001b[0m",
            "\u001b[0;31mNameError\u001b[0m                                 Traceback (most recent call last)",
            "\u001b[0;32m<ipython-input-25-a0c884f12e27>\u001b[0m in \u001b[0;36m<module>\u001b[0;34m\u001b[0m\n\u001b[0;32m----> 1\u001b[0;31m \u001b[0mdivision\u001b[0m\u001b[0;34m(\u001b[0m\u001b[0;36m8\u001b[0m\u001b[0;34m/\u001b[0m\u001b[0;36m3\u001b[0m\u001b[0;34m)\u001b[0m\u001b[0;34m\u001b[0m\u001b[0;34m\u001b[0m\u001b[0m\n\u001b[0m",
            "\u001b[0;31mNameError\u001b[0m: name 'division' is not defined"
          ]
        }
      ],
      "source": [
        "division(8/3)"
      ]
    },
    {
      "cell_type": "code",
      "execution_count": null,
      "metadata": {
        "colab": {
          "base_uri": "https://localhost:8080/"
        },
        "id": "9yLkUt8X9_SG",
        "outputId": "56caa3b0-c3b7-4f37-ae40-fdaa6943992e"
      },
      "outputs": [
        {
          "name": "stdout",
          "output_type": "stream",
          "text": [
            "Writing sample_module.py\n"
          ]
        }
      ],
      "source": [
        "%%writefile sample_module.py\n",
        "x = 2\n",
        "\n",
        "def func():\n",
        "    '''\n",
        "       This is a sample function\n",
        "       contains in a module.\n",
        "    '''\n",
        "    print('Hi from within a module!')\n",
        "\n",
        "if __name__ == '__main__':\n",
        "    print(\"<> Running the module as a script! <>\")\n",
        "    print(\"The Value of x is: \", x)\n",
        "    func()"
      ]
    },
    {
      "cell_type": "code",
      "execution_count": null,
      "metadata": {
        "colab": {
          "base_uri": "https://localhost:8080/"
        },
        "id": "xoTUs77A-BsK",
        "outputId": "805b3542-5d74-4771-d9ed-a6f861e2e74a"
      },
      "outputs": [
        {
          "name": "stdout",
          "output_type": "stream",
          "text": [
            "x = 2\n",
            "\n",
            "def func():\n",
            "    '''\n",
            "       This is a sample function\n",
            "       contains in a module.\n",
            "    '''\n",
            "    print('Hi from within a module!')\n",
            "\n",
            "if __name__ == '__main__':\n",
            "    print(\"<> Running the module as a script! <>\")\n",
            "    print(\"The Value of x is: \", x)\n",
            "    func()\n"
          ]
        }
      ],
      "source": [
        "%cat sample_module.py"
      ]
    },
    {
      "cell_type": "code",
      "execution_count": null,
      "metadata": {
        "colab": {
          "base_uri": "https://localhost:8080/"
        },
        "id": "bN_iSlY6-EWq",
        "outputId": "714e333a-8cee-445e-adb0-08be44318684"
      },
      "outputs": [
        {
          "name": "stdout",
          "output_type": "stream",
          "text": [
            "['__builtins__', '__cached__', '__doc__', '__file__', '__loader__', '__name__', '__package__', '__spec__', 'func', 'x']\n"
          ]
        }
      ],
      "source": [
        "import sample_module\n",
        "\n",
        "print(dir(sample_module))"
      ]
    },
    {
      "cell_type": "code",
      "execution_count": null,
      "metadata": {
        "colab": {
          "base_uri": "https://localhost:8080/"
        },
        "id": "7aXfP300-IXW",
        "outputId": "bb915afd-1b5b-4bce-a363-f8fdb0042f06"
      },
      "outputs": [
        {
          "name": "stdout",
          "output_type": "stream",
          "text": [
            "2\n"
          ]
        }
      ],
      "source": [
        "print(sample_module.x)"
      ]
    },
    {
      "cell_type": "code",
      "execution_count": null,
      "metadata": {
        "colab": {
          "base_uri": "https://localhost:8080/"
        },
        "id": "6zhILWAL-K3d",
        "outputId": "e05c7692-0417-4259-a8e7-bfabd620aff2"
      },
      "outputs": [
        {
          "name": "stdout",
          "output_type": "stream",
          "text": [
            "\n",
            "       This is a sample function\n",
            "       contains in a module.\n",
            "    \n"
          ]
        }
      ],
      "source": [
        "print(sample_module.func.__doc__)"
      ]
    },
    {
      "cell_type": "code",
      "execution_count": null,
      "metadata": {
        "colab": {
          "base_uri": "https://localhost:8080/",
          "height": 86
        },
        "id": "GsjUnjwD-N-f",
        "outputId": "ea849faa-a7fa-4663-8cf7-e8cd0f23adcf"
      },
      "outputs": [
        {
          "name": "stdout",
          "output_type": "stream",
          "text": [
            "<> Running the module as a script! <>\n",
            "The Value of x is:  2\n",
            "Hi from within a module!\n"
          ]
        },
        {
          "data": {
            "text/plain": [
              "<Figure size 432x288 with 0 Axes>"
            ]
          },
          "metadata": {},
          "output_type": "display_data"
        }
      ],
      "source": [
        "# Run the module as a script\n",
        "%run sample_module.py"
      ]
    },
    {
      "cell_type": "code",
      "execution_count": null,
      "metadata": {
        "colab": {
          "base_uri": "https://localhost:8080/"
        },
        "id": "fr7mtUlVTxgY",
        "outputId": "3238f48a-0652-4165-dc72-3b2317a971fb"
      },
      "outputs": [
        {
          "name": "stdout",
          "output_type": "stream",
          "text": [
            "The factorial of 50 is 30414093201713378043612608166064768844377641568960512000000000000 and time is 5.650520324707031e-05\n"
          ]
        }
      ],
      "source": [
        "import time\n",
        "n = 50\n",
        "fact = 1\n",
        "start_time = time.time()\n",
        "for i in range(1, n+1):\n",
        "    fact = fact * i\n",
        "end_time = time.time()   \n",
        "print (f\"The factorial of {n} is {fact} and time is {end_time-start_time}\")\n"
      ]
    },
    {
      "cell_type": "code",
      "execution_count": null,
      "metadata": {
        "colab": {
          "base_uri": "https://localhost:8080/"
        },
        "id": "2ets4RflUvnO",
        "outputId": "2a156dcc-fdd4-4ea6-d345-c32014f6eb05"
      },
      "outputs": [
        {
          "name": "stdout",
          "output_type": "stream",
          "text": [
            "Factorial is 80658175170943878571660636856403766975289505440883277824000000000000 and time is 0.00010538101196289062\n"
          ]
        }
      ],
      "source": [
        "def fact(n):\n",
        "   if n == 1:\n",
        "       return n\n",
        "   else:\n",
        "       return n*fact(n-1)\n",
        "       \n",
        "import time\n",
        "start_time = time.time() \n",
        "fac = fact(52)\n",
        "end_time = time.time()\n",
        "print(f\"Factorial is {fac} and time is {end_time-start_time}\")"
      ]
    },
    {
      "cell_type": "markdown",
      "metadata": {
        "id": "5Ag0AuesV-_e"
      },
      "source": []
    },
    {
      "cell_type": "code",
      "execution_count": null,
      "metadata": {
        "colab": {
          "base_uri": "https://localhost:8080/"
        },
        "id": "xZhAwRFmf-jq",
        "outputId": "e2848099-59fa-4a3a-9ac2-12afd676631a"
      },
      "outputs": [
        {
          "name": "stdout",
          "output_type": "stream",
          "text": [
            "\n",
            " 16 f 17.99 17.900000\n"
          ]
        }
      ],
      "source": [
        "print(\"\\n %o %x %g %f\"%(14, 15, 17.990000, 17.9))"
      ]
    },
    {
      "cell_type": "code",
      "execution_count": null,
      "metadata": {
        "colab": {
          "base_uri": "https://localhost:8080/",
          "height": 217
        },
        "id": "sYM6gGFwUqEp",
        "outputId": "51944a31-ad5a-4ae1-c7d4-1f2406389551"
      },
      "outputs": [
        {
          "ename": "TypeError",
          "evalue": "ignored",
          "output_type": "error",
          "traceback": [
            "\u001b[0;31m---------------------------------------------------------------------------\u001b[0m",
            "\u001b[0;31mTypeError\u001b[0m                                 Traceback (most recent call last)",
            "\u001b[0;32m<ipython-input-48-945b9b63cd5c>\u001b[0m in \u001b[0;36m<module>\u001b[0;34m\u001b[0m\n\u001b[1;32m      2\u001b[0m \u001b[0my\u001b[0m \u001b[0;34m=\u001b[0m \u001b[0;36m11.34\u001b[0m\u001b[0;34m;\u001b[0m\u001b[0;34m\u001b[0m\u001b[0;34m\u001b[0m\u001b[0m\n\u001b[1;32m      3\u001b[0m \u001b[0mz\u001b[0m \u001b[0;34m=\u001b[0m \u001b[0;34m'S'\u001b[0m\u001b[0;34m;\u001b[0m\u001b[0;34m\u001b[0m\u001b[0;34m\u001b[0m\u001b[0m\n\u001b[0;32m----> 4\u001b[0;31m \u001b[0mprint\u001b[0m\u001b[0;34m(\u001b[0m\u001b[0;34m\"%d\\t%f\\t%c\"\u001b[0m\u001b[0;34m%\u001b[0m\u001b[0;34m(\u001b[0m\u001b[0mz\u001b[0m\u001b[0;34m,\u001b[0m\u001b[0mx\u001b[0m\u001b[0;34m,\u001b[0m\u001b[0my\u001b[0m\u001b[0;34m)\u001b[0m\u001b[0;34m)\u001b[0m\u001b[0;34m;\u001b[0m\u001b[0;34m\u001b[0m\u001b[0;34m\u001b[0m\u001b[0m\n\u001b[0m\u001b[1;32m      5\u001b[0m \u001b[0mprint\u001b[0m\u001b[0;34m(\u001b[0m\u001b[0;34m\"%d\\t%f\\t%c\"\u001b[0m\u001b[0;34m%\u001b[0m\u001b[0;34m(\u001b[0m\u001b[0mx\u001b[0m\u001b[0;34m,\u001b[0m\u001b[0my\u001b[0m\u001b[0;34m,\u001b[0m\u001b[0mz\u001b[0m\u001b[0;34m)\u001b[0m\u001b[0;34m)\u001b[0m\u001b[0;34m;\u001b[0m\u001b[0;34m\u001b[0m\u001b[0;34m\u001b[0m\u001b[0m\n",
            "\u001b[0;31mTypeError\u001b[0m: %d format: a number is required, not str"
          ]
        }
      ],
      "source": [
        "x = 5;\n",
        "y = 11.34;\n",
        "z = 'S';\n",
        "print(\"%d\\t%f\\t%c\"%(z,x,y));\n",
        "print(\"%d\\t%f\\t%c\"%(x,y,z));"
      ]
    },
    {
      "cell_type": "code",
      "execution_count": null,
      "metadata": {
        "colab": {
          "base_uri": "https://localhost:8080/"
        },
        "id": "Leae3cbBV201",
        "outputId": "590a7a1e-ccb0-4da8-9380-1fdc8de111a8"
      },
      "outputs": [
        {
          "name": "stdout",
          "output_type": "stream",
          "text": [
            "ODD\n"
          ]
        }
      ],
      "source": [
        "x = 'ODD' if 13197 & 1 == 1 else 'EVEN'\n",
        "print(f\"{x}\")"
      ]
    },
    {
      "cell_type": "code",
      "execution_count": null,
      "metadata": {
        "colab": {
          "base_uri": "https://localhost:8080/"
        },
        "id": "thMnddv5-jY4",
        "outputId": "ae5d6425-7b35-44e7-90b4-4920cdd9a988"
      },
      "outputs": [
        {
          "output_type": "execute_result",
          "data": {
            "text/plain": [
              "3"
            ]
          },
          "metadata": {},
          "execution_count": 1
        }
      ],
      "source": [
        "def fun(n):\n",
        "  if n==1:\n",
        "    return 1\n",
        "  else:\n",
        "    return 1+fun(n-1)\n",
        "\n",
        "fun(3)"
      ]
    },
    {
      "cell_type": "code",
      "execution_count": null,
      "metadata": {
        "colab": {
          "base_uri": "https://localhost:8080/"
        },
        "id": "to8UY3DL_L9Y",
        "outputId": "5fc3a2e3-ed1c-46f7-fdff-95e9db4cffef"
      },
      "outputs": [
        {
          "output_type": "execute_result",
          "data": {
            "text/plain": [
              "720"
            ]
          },
          "metadata": {},
          "execution_count": 2
        }
      ],
      "source": [
        "def fact(n):\n",
        "  if n==1:\n",
        "    return 1\n",
        "  else:\n",
        "    return n*fact(n-1)\n",
        "\n",
        "fact(6)"
      ]
    }
  ],
  "metadata": {
    "accelerator": "GPU",
    "colab": {
      "collapsed_sections": [
        "DqzfTKX_dHDq",
        "KWM_ojx6dHDq",
        "Ki9CHBADj5SM",
        "EnO7Vu1QdHD0",
        "_XDWU4R-dHED",
        "_GSJRSDDdHEj",
        "SHQYeFQadHE_",
        "7NHEdgtwdHFG",
        "R7DyZUcJdHDp",
        "ek4dlkrxmDje",
        "97zcwAqMmgEY",
        "q5W9z_hgm_u9",
        "_73RPOcBdHFn"
      ],
      "provenance": []
    },
    "gpuClass": "standard",
    "kernelspec": {
      "display_name": "Python 3",
      "language": "python",
      "name": "python3"
    },
    "language_info": {
      "codemirror_mode": {
        "name": "ipython",
        "version": 3
      },
      "file_extension": ".py",
      "mimetype": "text/x-python",
      "name": "python",
      "nbconvert_exporter": "python",
      "pygments_lexer": "ipython3",
      "version": "3.7.6"
    }
  },
  "nbformat": 4,
  "nbformat_minor": 0
}